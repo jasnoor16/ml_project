{
  "nbformat": 4,
  "nbformat_minor": 0,
  "metadata": {
    "colab": {
      "provenance": []
    },
    "kernelspec": {
      "name": "python3",
      "display_name": "Python 3"
    },
    "language_info": {
      "name": "python"
    }
  },
  "cells": [
    {
      "cell_type": "markdown",
      "source": [
        "![image.png](data:image/png;base64,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)"
      ],
      "metadata": {
        "id": "wRlBaYWVFjr0"
      }
    },
    {
      "cell_type": "code",
      "source": [],
      "metadata": {
        "id": "F1osTobtdieB"
      },
      "execution_count": null,
      "outputs": []
    },
    {
      "cell_type": "markdown",
      "source": [
        "### Assignment: Machine Learning Model Training and Evaluation\n",
        "\n",
        "**Objective:**  \n",
        "In this assignment, you will use the **Machine Learning notebook** from last year's project as a starting point. Your goal is to retrain the model using the **2023 Food Drive data** for training and then use the **2024 Food Drive data** as the test set to evaluate the model’s accuracy and effectiveness. You will compare the predictions with the actual results from 2024 and assess the model's performance.\n",
        "\n",
        "---\n",
        "\n",
        "### Steps:\n",
        "\n",
        "1. **Review the ML Notebook**\n",
        "   - Start by reviewing the Machine Learning notebook provided from last year. Understand the model architecture, feature selection, and data preprocessing steps.\n",
        "   - Ensure you understand the model’s objective and how predictions were generated for donation volumes, volunteer allocation, or other key metrics.\n",
        "\n",
        "2. **Data Preparation**\n",
        "   - **Load the 2023 data** as the training dataset and ensure that the data is cleaned and preprocessed in a way that matches last year's model requirements (feature scaling, missing value handling, etc.).\n",
        "   - **Load the 2024 data** as the test dataset. Make sure that the test dataset is structured in the same format as the training data, ensuring consistency in features.\n",
        "\n",
        "3. **Model Training**\n",
        "   - Using the 2023 data, retrain the model provided in the notebook. Ensure that the parameters, features, and settings used in last year’s notebook are maintained unless you choose to optimize them.\n",
        "   - Record the model's **training performance metrics**, such as accuracy, loss, or other relevant evaluation metrics based on your model (e.g., RMSE, MAE, precision).\n",
        "\n",
        "4. **Model Testing**\n",
        "   - Once the model is trained, use the 2024 data as the **test set**.\n",
        "   - Generate predictions using the model and compare them to the actual results from the 2024 food drive.\n",
        "   - Record the model’s **test performance metrics** and compare them to the training metrics.\n",
        "\n",
        "5. **Accuracy and Performance Analysis**\n",
        "   - Evaluate the **accuracy** of the model's predictions by comparing them to the actual outcomes from the 2024 data.\n",
        "   - Use relevant evaluation metrics (e.g., accuracy, precision, recall, F1 score, MAE, RMSE, etc.) to measure the model's performance.\n",
        "   - Identify **any discrepancies** between the predictions and actual outcomes. Are there any trends or patterns where the model performed well or poorly?\n",
        "\n",
        "\n",
        "\n"
      ],
      "metadata": {
        "id": "Ux7WjbMW9wEj"
      }
    },
    {
      "cell_type": "markdown",
      "source": [
        "# Load data and run previous EDA"
      ],
      "metadata": {
        "id": "ZgjjpTFijt2q"
      }
    },
    {
      "cell_type": "markdown",
      "source": [
        "# Modelling"
      ],
      "metadata": {
        "id": "PUFgj44dgJsg"
      }
    },
    {
      "cell_type": "markdown",
      "source": [
        "Predicting the **number of donation bags collected** is a regression problem, and there are several regression models you can use in addition to Linear Regression. Here are some commonly used regression models:\n",
        "\n",
        "Ridge Regression and Lasso Regression: These are extensions of Linear Regression that add regularization to the model to prevent overfitting. Ridge regression uses L2 regularization, and Lasso regression uses L1 regularization.\n",
        "\n",
        "Support Vector Regression (SVR): SVR is a regression technique that extends Support Vector Machines (SVM) to regression problems. It is particularly useful when dealing with non-linear relationships.\n",
        "\n",
        "ElasticNet Regression: ElasticNet combines L1 and L2 regularization, offering a balance between Ridge and Lasso regression. It can handle cases where some features are irrelevant or redundant.\n",
        "\n",
        "Polynomial Regression: Polynomial regression allows you to capture non-linear relationships by introducing polynomial features. It's suitable when the relationship between the input features and the target variable is curvilinear.\n",
        "\n",
        "Random Forest Regression: Random Forest can also be used for regression tasks. It combines multiple decision trees to provide robust predictions.\n",
        "\n",
        "Gradient Boosting Regressors: Algorithms like XGBoost, LightGBM, and CatBoost have regression variants. They are powerful and often provide state-of-the-art performance for regression tasks.\n",
        "\n",
        "K-Nearest Neighbors (KNN) Regression: KNN can be adapted for regression by predicting the target variable as the average or weighted average of the K nearest neighbors' target values.\n",
        "\n",
        "Neural Networks (Deep Learning): You can use deep learning models, such as feedforward neural networks, to perform regression tasks. Neural networks can capture complex relationships in the data.\n",
        "\n",
        "Gaussian Process Regression: Gaussian process regression is a probabilistic approach that models the target variable as a distribution, providing uncertainty estimates along with predictions.\n",
        "\n",
        "Decision Tree Regression: Decision trees can be used for regression as well as classification. They partition the data and predict the target variable as the average of the target values in each leaf node.\n",
        "\n",
        "Bayesian Regression: Bayesian regression models incorporate Bayesian techniques to estimate model parameters and provide uncertainty estimates in predictions."
      ],
      "metadata": {
        "id": "3v8GGrxJgL7P"
      }
    },
    {
      "cell_type": "markdown",
      "source": [
        "# Solution 1: Donation Prediction\n"
      ],
      "metadata": {
        "id": "jCHPe7PLbwNQ"
      }
    },
    {
      "cell_type": "code",
      "source": [
        "import pandas as pd\n",
        "from sklearn.model_selection import train_test_split\n",
        "from sklearn.linear_model import LinearRegression\n",
        "from sklearn.metrics import mean_absolute_error, mean_squared_error, r2_score\n",
        "\n",
        "\n",
        "data_2023 = pd.read_csv(\"cleaned_data_2023.csv\")\n",
        "data_2024 = pd.read_csv(\"cleaned_data_2024.csv\")\n",
        "X = data_2023[['Completed More Than One Route','Routes Completed','Time Spent', '# of Adult Volunteers','Doors in Route', '# of Youth Volunteers', 'Time Spent']]\n",
        "y = data_2023['Donation Bags Collected']"
      ],
      "metadata": {
        "id": "HtFb6BhzH9PF"
      },
      "execution_count": null,
      "outputs": []
    },
    {
      "cell_type": "code",
      "source": [
        "# Display column names to understand differences\n",
        "print(\"Columns in 2023 data:\", data_2023.columns.tolist())\n",
        "print(\"Columns in 2024 data:\", data_2024.columns.tolist())"
      ],
      "metadata": {
        "colab": {
          "base_uri": "https://localhost:8080/"
        },
        "id": "26rVApGMKoBn",
        "outputId": "dcb3cbe3-f1b5-46e3-e52b-5e058037eebd"
      },
      "execution_count": null,
      "outputs": [
        {
          "output_type": "stream",
          "name": "stdout",
          "text": [
            "Columns in 2023 data: ['Date', 'Location', 'Stake', '# of Adult Volunteers', '# of Youth Volunteers', 'Donation Bags Collected', 'Completed More Than One Route', 'Ward/Branch', 'Comments', 'Routes Completed', 'Doors in Route', 'time completed', 'Time Spent']\n",
            "Columns in 2024 data: ['How did you receive the form?', 'Drop Off Location', 'Stake', 'Route Number/Name', 'Time to Complete (min)', 'No of Adult Volunteers', 'No of Youth Volunteers', 'Doors in Route', 'Donation Bags Collected', 'Completed More Than One Route', 'How many routes did you complete?', 'Additional Routes completed (2 routes)', 'Additional routes completed (3 routes)', 'Additional routes completed (3 routes)2', 'Additional routes completed (More than 3 Routes)', 'Additional routes completed (More than 3 Routes)2', 'Additional routes completed (More than 3 Routes)3', 'Comments or Feedback', 'Ward']\n"
          ]
        }
      ]
    },
    {
      "cell_type": "code",
      "source": [
        "# Standardize column names across both datasets to align features with the 2023 dataset's naming convention\n",
        "rename_2024 = {\n",
        "    'No of Adult Volunteers': '# of Adult Volunteers',\n",
        "    'No of Youth Volunteers': '# of Youth Volunteers',\n",
        "    'Time to Complete (min)': 'Time Spent',\n",
        "    'How many routes did you complete?': 'Routes Completed'\n",
        "}\n",
        "\n",
        "data_2024.rename(columns=rename_2024, inplace=True)\n",
        "X2 = data_2024[['Completed More Than One Route','Routes Completed','Time Spent', '# of Adult Volunteers','Doors in Route', '# of Youth Volunteers', 'Time Spent']]\n",
        "y2 = data_2024['Donation Bags Collected']"
      ],
      "metadata": {
        "id": "1rg1hs1mKtMD"
      },
      "execution_count": null,
      "outputs": []
    },
    {
      "cell_type": "code",
      "source": [
        "# Define function to convert numeric time spent to range labels for 2023 data\n",
        "def convert_to_range(value):\n",
        "    if value <= 30:\n",
        "        return \"0 - 30 Minutes\"\n",
        "    elif 30 < value <= 60:\n",
        "        return \"30 - 60 Minutes\"\n",
        "    elif 60 < value <= 90:\n",
        "        return \"1 Hour - 1.5 Hours\"\n",
        "    else:\n",
        "        return \"2+ Hours\"\n",
        "\n",
        "# Apply the function to convert 'Time Spent' in the 2023 dataset\n",
        "data_2023['Time Spent'] = data_2023['Time Spent'].apply(convert_to_range)\n",
        "\n",
        "# Verify change in 2023 data\n",
        "print(\"Updated 'Time Spent' in 2023 data:\\n\", data_2023['Time Spent'].head())\n",
        "\n",
        "# Ensuring 2024 data 'Time Spent' is also in the same range format (already mapped as per previous steps)\n",
        "# Display sample to confirm consistency\n",
        "print(\"Updated 'Time Spent' in 2024 data:\\n\", data_2024['Time Spent'].head())"
      ],
      "metadata": {
        "colab": {
          "base_uri": "https://localhost:8080/"
        },
        "id": "DtljKUdkMvzc",
        "outputId": "d92a1348-c50e-4f44-c0d7-d36b13d88ea1"
      },
      "execution_count": null,
      "outputs": [
        {
          "output_type": "stream",
          "name": "stdout",
          "text": [
            "Updated 'Time Spent' in 2023 data:\n",
            " 0    0 - 30 Minutes\n",
            "1    0 - 30 Minutes\n",
            "2    0 - 30 Minutes\n",
            "3    0 - 30 Minutes\n",
            "4    0 - 30 Minutes\n",
            "Name: Time Spent, dtype: object\n",
            "Updated 'Time Spent' in 2024 data:\n",
            " 0     0 - 30 Minutes\n",
            "1     0 - 30 Minutes\n",
            "2     0 - 30 Minutes\n",
            "3     0 - 30 Minutes\n",
            "4    30 - 60 Minutes\n",
            "Name: Time Spent, dtype: object\n"
          ]
        }
      ]
    },
    {
      "cell_type": "code",
      "source": [
        "data_2023.head()"
      ],
      "metadata": {
        "colab": {
          "base_uri": "https://localhost:8080/",
          "height": 434
        },
        "id": "ZCSbuvIXQNff",
        "outputId": "928a159c-6c03-472a-b4d5-8b16d4d269ed"
      },
      "execution_count": null,
      "outputs": [
        {
          "output_type": "execute_result",
          "data": {
            "text/plain": [
              "                  Date              Location              Stake  \\\n",
              "0  2023-09-23 10:36:10    Londonderry Chapel  Bonnie Doon Stake   \n",
              "1  2023-09-23 10:36:52  Gateway Stake Centre      Gateway Stake   \n",
              "2  2023-09-23 10:40:22  Gateway Stake Centre      Gateway Stake   \n",
              "3  2023-09-23 10:41:08  Gateway Stake Centre      Gateway Stake   \n",
              "4  2023-09-23 10:44:10    Londonderry Chapel  Bonnie Doon Stake   \n",
              "\n",
              "   # of Adult Volunteers  # of Youth Volunteers  Donation Bags Collected  \\\n",
              "0                      1                      3                       14   \n",
              "1                      3                      1                       18   \n",
              "2                      2                      0                       20   \n",
              "3                      2                      0                       20   \n",
              "4                      1                      0                        2   \n",
              "\n",
              "   Completed More Than One Route           Ward/Branch Comments  \\\n",
              "0                              0        Clareview Ward      NaN   \n",
              "1                              1  Crawford Plains Ward      NaN   \n",
              "2                              0     Silver Berry Ward      NaN   \n",
              "3                              1  Crawford Plains Ward      NaN   \n",
              "4                              0      Londonderry Ward      NaN   \n",
              "\n",
              "   Routes Completed  Doors in Route  time completed      Time Spent  \n",
              "0                 2              14            25.0  0 - 30 Minutes  \n",
              "1                 2             144            30.0  0 - 30 Minutes  \n",
              "2                 2             186            30.0  0 - 30 Minutes  \n",
              "3                 1             194            30.0  0 - 30 Minutes  \n",
              "4                 2               1            10.0  0 - 30 Minutes  "
            ],
            "text/html": [
              "\n",
              "  <div id=\"df-a70a175d-43a3-4c03-9607-821e2c79d71b\" class=\"colab-df-container\">\n",
              "    <div>\n",
              "<style scoped>\n",
              "    .dataframe tbody tr th:only-of-type {\n",
              "        vertical-align: middle;\n",
              "    }\n",
              "\n",
              "    .dataframe tbody tr th {\n",
              "        vertical-align: top;\n",
              "    }\n",
              "\n",
              "    .dataframe thead th {\n",
              "        text-align: right;\n",
              "    }\n",
              "</style>\n",
              "<table border=\"1\" class=\"dataframe\">\n",
              "  <thead>\n",
              "    <tr style=\"text-align: right;\">\n",
              "      <th></th>\n",
              "      <th>Date</th>\n",
              "      <th>Location</th>\n",
              "      <th>Stake</th>\n",
              "      <th># of Adult Volunteers</th>\n",
              "      <th># of Youth Volunteers</th>\n",
              "      <th>Donation Bags Collected</th>\n",
              "      <th>Completed More Than One Route</th>\n",
              "      <th>Ward/Branch</th>\n",
              "      <th>Comments</th>\n",
              "      <th>Routes Completed</th>\n",
              "      <th>Doors in Route</th>\n",
              "      <th>time completed</th>\n",
              "      <th>Time Spent</th>\n",
              "    </tr>\n",
              "  </thead>\n",
              "  <tbody>\n",
              "    <tr>\n",
              "      <th>0</th>\n",
              "      <td>2023-09-23 10:36:10</td>\n",
              "      <td>Londonderry Chapel</td>\n",
              "      <td>Bonnie Doon Stake</td>\n",
              "      <td>1</td>\n",
              "      <td>3</td>\n",
              "      <td>14</td>\n",
              "      <td>0</td>\n",
              "      <td>Clareview Ward</td>\n",
              "      <td>NaN</td>\n",
              "      <td>2</td>\n",
              "      <td>14</td>\n",
              "      <td>25.0</td>\n",
              "      <td>0 - 30 Minutes</td>\n",
              "    </tr>\n",
              "    <tr>\n",
              "      <th>1</th>\n",
              "      <td>2023-09-23 10:36:52</td>\n",
              "      <td>Gateway Stake Centre</td>\n",
              "      <td>Gateway Stake</td>\n",
              "      <td>3</td>\n",
              "      <td>1</td>\n",
              "      <td>18</td>\n",
              "      <td>1</td>\n",
              "      <td>Crawford Plains Ward</td>\n",
              "      <td>NaN</td>\n",
              "      <td>2</td>\n",
              "      <td>144</td>\n",
              "      <td>30.0</td>\n",
              "      <td>0 - 30 Minutes</td>\n",
              "    </tr>\n",
              "    <tr>\n",
              "      <th>2</th>\n",
              "      <td>2023-09-23 10:40:22</td>\n",
              "      <td>Gateway Stake Centre</td>\n",
              "      <td>Gateway Stake</td>\n",
              "      <td>2</td>\n",
              "      <td>0</td>\n",
              "      <td>20</td>\n",
              "      <td>0</td>\n",
              "      <td>Silver Berry Ward</td>\n",
              "      <td>NaN</td>\n",
              "      <td>2</td>\n",
              "      <td>186</td>\n",
              "      <td>30.0</td>\n",
              "      <td>0 - 30 Minutes</td>\n",
              "    </tr>\n",
              "    <tr>\n",
              "      <th>3</th>\n",
              "      <td>2023-09-23 10:41:08</td>\n",
              "      <td>Gateway Stake Centre</td>\n",
              "      <td>Gateway Stake</td>\n",
              "      <td>2</td>\n",
              "      <td>0</td>\n",
              "      <td>20</td>\n",
              "      <td>1</td>\n",
              "      <td>Crawford Plains Ward</td>\n",
              "      <td>NaN</td>\n",
              "      <td>1</td>\n",
              "      <td>194</td>\n",
              "      <td>30.0</td>\n",
              "      <td>0 - 30 Minutes</td>\n",
              "    </tr>\n",
              "    <tr>\n",
              "      <th>4</th>\n",
              "      <td>2023-09-23 10:44:10</td>\n",
              "      <td>Londonderry Chapel</td>\n",
              "      <td>Bonnie Doon Stake</td>\n",
              "      <td>1</td>\n",
              "      <td>0</td>\n",
              "      <td>2</td>\n",
              "      <td>0</td>\n",
              "      <td>Londonderry Ward</td>\n",
              "      <td>NaN</td>\n",
              "      <td>2</td>\n",
              "      <td>1</td>\n",
              "      <td>10.0</td>\n",
              "      <td>0 - 30 Minutes</td>\n",
              "    </tr>\n",
              "  </tbody>\n",
              "</table>\n",
              "</div>\n",
              "    <div class=\"colab-df-buttons\">\n",
              "\n",
              "  <div class=\"colab-df-container\">\n",
              "    <button class=\"colab-df-convert\" onclick=\"convertToInteractive('df-a70a175d-43a3-4c03-9607-821e2c79d71b')\"\n",
              "            title=\"Convert this dataframe to an interactive table.\"\n",
              "            style=\"display:none;\">\n",
              "\n",
              "  <svg xmlns=\"http://www.w3.org/2000/svg\" height=\"24px\" viewBox=\"0 -960 960 960\">\n",
              "    <path d=\"M120-120v-720h720v720H120Zm60-500h600v-160H180v160Zm220 220h160v-160H400v160Zm0 220h160v-160H400v160ZM180-400h160v-160H180v160Zm440 0h160v-160H620v160ZM180-180h160v-160H180v160Zm440 0h160v-160H620v160Z\"/>\n",
              "  </svg>\n",
              "    </button>\n",
              "\n",
              "  <style>\n",
              "    .colab-df-container {\n",
              "      display:flex;\n",
              "      gap: 12px;\n",
              "    }\n",
              "\n",
              "    .colab-df-convert {\n",
              "      background-color: #E8F0FE;\n",
              "      border: none;\n",
              "      border-radius: 50%;\n",
              "      cursor: pointer;\n",
              "      display: none;\n",
              "      fill: #1967D2;\n",
              "      height: 32px;\n",
              "      padding: 0 0 0 0;\n",
              "      width: 32px;\n",
              "    }\n",
              "\n",
              "    .colab-df-convert:hover {\n",
              "      background-color: #E2EBFA;\n",
              "      box-shadow: 0px 1px 2px rgba(60, 64, 67, 0.3), 0px 1px 3px 1px rgba(60, 64, 67, 0.15);\n",
              "      fill: #174EA6;\n",
              "    }\n",
              "\n",
              "    .colab-df-buttons div {\n",
              "      margin-bottom: 4px;\n",
              "    }\n",
              "\n",
              "    [theme=dark] .colab-df-convert {\n",
              "      background-color: #3B4455;\n",
              "      fill: #D2E3FC;\n",
              "    }\n",
              "\n",
              "    [theme=dark] .colab-df-convert:hover {\n",
              "      background-color: #434B5C;\n",
              "      box-shadow: 0px 1px 3px 1px rgba(0, 0, 0, 0.15);\n",
              "      filter: drop-shadow(0px 1px 2px rgba(0, 0, 0, 0.3));\n",
              "      fill: #FFFFFF;\n",
              "    }\n",
              "  </style>\n",
              "\n",
              "    <script>\n",
              "      const buttonEl =\n",
              "        document.querySelector('#df-a70a175d-43a3-4c03-9607-821e2c79d71b button.colab-df-convert');\n",
              "      buttonEl.style.display =\n",
              "        google.colab.kernel.accessAllowed ? 'block' : 'none';\n",
              "\n",
              "      async function convertToInteractive(key) {\n",
              "        const element = document.querySelector('#df-a70a175d-43a3-4c03-9607-821e2c79d71b');\n",
              "        const dataTable =\n",
              "          await google.colab.kernel.invokeFunction('convertToInteractive',\n",
              "                                                    [key], {});\n",
              "        if (!dataTable) return;\n",
              "\n",
              "        const docLinkHtml = 'Like what you see? Visit the ' +\n",
              "          '<a target=\"_blank\" href=https://colab.research.google.com/notebooks/data_table.ipynb>data table notebook</a>'\n",
              "          + ' to learn more about interactive tables.';\n",
              "        element.innerHTML = '';\n",
              "        dataTable['output_type'] = 'display_data';\n",
              "        await google.colab.output.renderOutput(dataTable, element);\n",
              "        const docLink = document.createElement('div');\n",
              "        docLink.innerHTML = docLinkHtml;\n",
              "        element.appendChild(docLink);\n",
              "      }\n",
              "    </script>\n",
              "  </div>\n",
              "\n",
              "\n",
              "<div id=\"df-3855a6a3-1b17-4218-8f0b-a8c63ef7c0e7\">\n",
              "  <button class=\"colab-df-quickchart\" onclick=\"quickchart('df-3855a6a3-1b17-4218-8f0b-a8c63ef7c0e7')\"\n",
              "            title=\"Suggest charts\"\n",
              "            style=\"display:none;\">\n",
              "\n",
              "<svg xmlns=\"http://www.w3.org/2000/svg\" height=\"24px\"viewBox=\"0 0 24 24\"\n",
              "     width=\"24px\">\n",
              "    <g>\n",
              "        <path d=\"M19 3H5c-1.1 0-2 .9-2 2v14c0 1.1.9 2 2 2h14c1.1 0 2-.9 2-2V5c0-1.1-.9-2-2-2zM9 17H7v-7h2v7zm4 0h-2V7h2v10zm4 0h-2v-4h2v4z\"/>\n",
              "    </g>\n",
              "</svg>\n",
              "  </button>\n",
              "\n",
              "<style>\n",
              "  .colab-df-quickchart {\n",
              "      --bg-color: #E8F0FE;\n",
              "      --fill-color: #1967D2;\n",
              "      --hover-bg-color: #E2EBFA;\n",
              "      --hover-fill-color: #174EA6;\n",
              "      --disabled-fill-color: #AAA;\n",
              "      --disabled-bg-color: #DDD;\n",
              "  }\n",
              "\n",
              "  [theme=dark] .colab-df-quickchart {\n",
              "      --bg-color: #3B4455;\n",
              "      --fill-color: #D2E3FC;\n",
              "      --hover-bg-color: #434B5C;\n",
              "      --hover-fill-color: #FFFFFF;\n",
              "      --disabled-bg-color: #3B4455;\n",
              "      --disabled-fill-color: #666;\n",
              "  }\n",
              "\n",
              "  .colab-df-quickchart {\n",
              "    background-color: var(--bg-color);\n",
              "    border: none;\n",
              "    border-radius: 50%;\n",
              "    cursor: pointer;\n",
              "    display: none;\n",
              "    fill: var(--fill-color);\n",
              "    height: 32px;\n",
              "    padding: 0;\n",
              "    width: 32px;\n",
              "  }\n",
              "\n",
              "  .colab-df-quickchart:hover {\n",
              "    background-color: var(--hover-bg-color);\n",
              "    box-shadow: 0 1px 2px rgba(60, 64, 67, 0.3), 0 1px 3px 1px rgba(60, 64, 67, 0.15);\n",
              "    fill: var(--button-hover-fill-color);\n",
              "  }\n",
              "\n",
              "  .colab-df-quickchart-complete:disabled,\n",
              "  .colab-df-quickchart-complete:disabled:hover {\n",
              "    background-color: var(--disabled-bg-color);\n",
              "    fill: var(--disabled-fill-color);\n",
              "    box-shadow: none;\n",
              "  }\n",
              "\n",
              "  .colab-df-spinner {\n",
              "    border: 2px solid var(--fill-color);\n",
              "    border-color: transparent;\n",
              "    border-bottom-color: var(--fill-color);\n",
              "    animation:\n",
              "      spin 1s steps(1) infinite;\n",
              "  }\n",
              "\n",
              "  @keyframes spin {\n",
              "    0% {\n",
              "      border-color: transparent;\n",
              "      border-bottom-color: var(--fill-color);\n",
              "      border-left-color: var(--fill-color);\n",
              "    }\n",
              "    20% {\n",
              "      border-color: transparent;\n",
              "      border-left-color: var(--fill-color);\n",
              "      border-top-color: var(--fill-color);\n",
              "    }\n",
              "    30% {\n",
              "      border-color: transparent;\n",
              "      border-left-color: var(--fill-color);\n",
              "      border-top-color: var(--fill-color);\n",
              "      border-right-color: var(--fill-color);\n",
              "    }\n",
              "    40% {\n",
              "      border-color: transparent;\n",
              "      border-right-color: var(--fill-color);\n",
              "      border-top-color: var(--fill-color);\n",
              "    }\n",
              "    60% {\n",
              "      border-color: transparent;\n",
              "      border-right-color: var(--fill-color);\n",
              "    }\n",
              "    80% {\n",
              "      border-color: transparent;\n",
              "      border-right-color: var(--fill-color);\n",
              "      border-bottom-color: var(--fill-color);\n",
              "    }\n",
              "    90% {\n",
              "      border-color: transparent;\n",
              "      border-bottom-color: var(--fill-color);\n",
              "    }\n",
              "  }\n",
              "</style>\n",
              "\n",
              "  <script>\n",
              "    async function quickchart(key) {\n",
              "      const quickchartButtonEl =\n",
              "        document.querySelector('#' + key + ' button');\n",
              "      quickchartButtonEl.disabled = true;  // To prevent multiple clicks.\n",
              "      quickchartButtonEl.classList.add('colab-df-spinner');\n",
              "      try {\n",
              "        const charts = await google.colab.kernel.invokeFunction(\n",
              "            'suggestCharts', [key], {});\n",
              "      } catch (error) {\n",
              "        console.error('Error during call to suggestCharts:', error);\n",
              "      }\n",
              "      quickchartButtonEl.classList.remove('colab-df-spinner');\n",
              "      quickchartButtonEl.classList.add('colab-df-quickchart-complete');\n",
              "    }\n",
              "    (() => {\n",
              "      let quickchartButtonEl =\n",
              "        document.querySelector('#df-3855a6a3-1b17-4218-8f0b-a8c63ef7c0e7 button');\n",
              "      quickchartButtonEl.style.display =\n",
              "        google.colab.kernel.accessAllowed ? 'block' : 'none';\n",
              "    })();\n",
              "  </script>\n",
              "</div>\n",
              "\n",
              "    </div>\n",
              "  </div>\n"
            ],
            "application/vnd.google.colaboratory.intrinsic+json": {
              "type": "dataframe",
              "variable_name": "data_2023",
              "summary": "{\n  \"name\": \"data_2023\",\n  \"rows\": 454,\n  \"fields\": [\n    {\n      \"column\": \"Date\",\n      \"properties\": {\n        \"dtype\": \"object\",\n        \"num_unique_values\": 440,\n        \"samples\": [\n          \"2023-09-23 12:17:25\",\n          \"2023-09-23 11:28:25\",\n          \"2023-09-23 12:49:19\"\n        ],\n        \"semantic_type\": \"\",\n        \"description\": \"\"\n      }\n    },\n    {\n      \"column\": \"Location\",\n      \"properties\": {\n        \"dtype\": \"category\",\n        \"num_unique_values\": 10,\n        \"samples\": [\n          \"Morinville\",\n          \"Gateway Stake Centre\",\n          \"North Stake Centre\"\n        ],\n        \"semantic_type\": \"\",\n        \"description\": \"\"\n      }\n    },\n    {\n      \"column\": \"Stake\",\n      \"properties\": {\n        \"dtype\": \"category\",\n        \"num_unique_values\": 5,\n        \"samples\": [\n          \"Gateway Stake\",\n          \"YSA Stake\",\n          \"Edmonton North Stake\"\n        ],\n        \"semantic_type\": \"\",\n        \"description\": \"\"\n      }\n    },\n    {\n      \"column\": \"# of Adult Volunteers\",\n      \"properties\": {\n        \"dtype\": \"number\",\n        \"std\": 3,\n        \"min\": 0,\n        \"max\": 46,\n        \"num_unique_values\": 14,\n        \"samples\": [\n          24,\n          0,\n          1\n        ],\n        \"semantic_type\": \"\",\n        \"description\": \"\"\n      }\n    },\n    {\n      \"column\": \"# of Youth Volunteers\",\n      \"properties\": {\n        \"dtype\": \"number\",\n        \"std\": 1,\n        \"min\": 0,\n        \"max\": 20,\n        \"num_unique_values\": 11,\n        \"samples\": [\n          5,\n          3,\n          9\n        ],\n        \"semantic_type\": \"\",\n        \"description\": \"\"\n      }\n    },\n    {\n      \"column\": \"Donation Bags Collected\",\n      \"properties\": {\n        \"dtype\": \"number\",\n        \"std\": 35,\n        \"min\": 1,\n        \"max\": 555,\n        \"num_unique_values\": 81,\n        \"samples\": [\n          27,\n          14,\n          33\n        ],\n        \"semantic_type\": \"\",\n        \"description\": \"\"\n      }\n    },\n    {\n      \"column\": \"Completed More Than One Route\",\n      \"properties\": {\n        \"dtype\": \"number\",\n        \"std\": 0,\n        \"min\": 0,\n        \"max\": 1,\n        \"num_unique_values\": 2,\n        \"samples\": [\n          1,\n          0\n        ],\n        \"semantic_type\": \"\",\n        \"description\": \"\"\n      }\n    },\n    {\n      \"column\": \"Ward/Branch\",\n      \"properties\": {\n        \"dtype\": \"category\",\n        \"num_unique_values\": 29,\n        \"samples\": [\n          \"Onoway Ward\",\n          \"Woodbend Ward\"\n        ],\n        \"semantic_type\": \"\",\n        \"description\": \"\"\n      }\n    },\n    {\n      \"column\": \"Comments\",\n      \"properties\": {\n        \"dtype\": \"category\",\n        \"num_unique_values\": 112,\n        \"samples\": [\n          \"Routes 159 & 160\",\n          \"Way less donations this year, not as much as usual\"\n        ],\n        \"semantic_type\": \"\",\n        \"description\": \"\"\n      }\n    },\n    {\n      \"column\": \"Routes Completed\",\n      \"properties\": {\n        \"dtype\": \"number\",\n        \"std\": 0,\n        \"min\": 1,\n        \"max\": 8,\n        \"num_unique_values\": 8,\n        \"samples\": [\n          1,\n          8\n        ],\n        \"semantic_type\": \"\",\n        \"description\": \"\"\n      }\n    },\n    {\n      \"column\": \"Doors in Route\",\n      \"properties\": {\n        \"dtype\": \"number\",\n        \"std\": 173,\n        \"min\": 1,\n        \"max\": 2500,\n        \"num_unique_values\": 200,\n        \"samples\": [\n          121,\n          12\n        ],\n        \"semantic_type\": \"\",\n        \"description\": \"\"\n      }\n    },\n    {\n      \"column\": \"time completed\",\n      \"properties\": {\n        \"dtype\": \"number\",\n        \"std\": 150.07039958468417,\n        \"min\": 0.0,\n        \"max\": 754.0,\n        \"num_unique_values\": 110,\n        \"samples\": [\n          675.0,\n          55.0\n        ],\n        \"semantic_type\": \"\",\n        \"description\": \"\"\n      }\n    },\n    {\n      \"column\": \"Time Spent\",\n      \"properties\": {\n        \"dtype\": \"category\",\n        \"num_unique_values\": 4,\n        \"samples\": [\n          \"30 - 60 Minutes\",\n          \"2+ Hours\"\n        ],\n        \"semantic_type\": \"\",\n        \"description\": \"\"\n      }\n    }\n  ]\n}"
            }
          },
          "metadata": {},
          "execution_count": 5
        }
      ]
    },
    {
      "cell_type": "code",
      "source": [
        "data_2023.tail()"
      ],
      "metadata": {
        "colab": {
          "base_uri": "https://localhost:8080/",
          "height": 452
        },
        "id": "4TbUV_neVOwe",
        "outputId": "e6aaac3c-5b4c-474e-bae1-c8ad8179e0fa"
      },
      "execution_count": null,
      "outputs": [
        {
          "output_type": "execute_result",
          "data": {
            "text/plain": [
              "                    Date                             Location  \\\n",
              "449  2023-09-27 14:24:33                   North Stake Centre   \n",
              "450  2023-09-27 14:24:35                   North Stake Centre   \n",
              "451  2023-09-28 20:44:23  Parkland (Spruce Grove/Stony Plain)   \n",
              "452  2023-10-15 11:15:43                   North Stake Centre   \n",
              "453                  NaN                   Londonderry Chapel   \n",
              "\n",
              "                    Stake  # of Adult Volunteers  # of Youth Volunteers  \\\n",
              "449  Edmonton North Stake                      2                      0   \n",
              "450  Edmonton North Stake                      2                      0   \n",
              "451  Edmonton North Stake                      2                      4   \n",
              "452  Edmonton North Stake                      3                      0   \n",
              "453  Edmonton North Stake                      2                      2   \n",
              "\n",
              "     Donation Bags Collected  Completed More Than One Route  \\\n",
              "449                       20                              0   \n",
              "450                       20                              0   \n",
              "451                       51                              1   \n",
              "452                       78                              1   \n",
              "453                        5                              0   \n",
              "\n",
              "           Ward/Branch Comments  Routes Completed  Doors in Route  \\\n",
              "449         Namao Ward      NaN                 2             150   \n",
              "450         Namao Ward      NaN                 2             150   \n",
              "451   Stony Plain Ward      NaN                 2             194   \n",
              "452     Griesbach Ward      NaN                 3             600   \n",
              "453  Lago Lindo Branch      NaN                 2             194   \n",
              "\n",
              "     time completed       Time Spent  \n",
              "449            45.0  30 - 60 Minutes  \n",
              "450            45.0  30 - 60 Minutes  \n",
              "451           120.0         2+ Hours  \n",
              "452           150.0         2+ Hours  \n",
              "453             NaN   0 - 30 Minutes  "
            ],
            "text/html": [
              "\n",
              "  <div id=\"df-5b2e24fc-2bce-4075-a296-c12ef3f2ae8e\" class=\"colab-df-container\">\n",
              "    <div>\n",
              "<style scoped>\n",
              "    .dataframe tbody tr th:only-of-type {\n",
              "        vertical-align: middle;\n",
              "    }\n",
              "\n",
              "    .dataframe tbody tr th {\n",
              "        vertical-align: top;\n",
              "    }\n",
              "\n",
              "    .dataframe thead th {\n",
              "        text-align: right;\n",
              "    }\n",
              "</style>\n",
              "<table border=\"1\" class=\"dataframe\">\n",
              "  <thead>\n",
              "    <tr style=\"text-align: right;\">\n",
              "      <th></th>\n",
              "      <th>Date</th>\n",
              "      <th>Location</th>\n",
              "      <th>Stake</th>\n",
              "      <th># of Adult Volunteers</th>\n",
              "      <th># of Youth Volunteers</th>\n",
              "      <th>Donation Bags Collected</th>\n",
              "      <th>Completed More Than One Route</th>\n",
              "      <th>Ward/Branch</th>\n",
              "      <th>Comments</th>\n",
              "      <th>Routes Completed</th>\n",
              "      <th>Doors in Route</th>\n",
              "      <th>time completed</th>\n",
              "      <th>Time Spent</th>\n",
              "    </tr>\n",
              "  </thead>\n",
              "  <tbody>\n",
              "    <tr>\n",
              "      <th>449</th>\n",
              "      <td>2023-09-27 14:24:33</td>\n",
              "      <td>North Stake Centre</td>\n",
              "      <td>Edmonton North Stake</td>\n",
              "      <td>2</td>\n",
              "      <td>0</td>\n",
              "      <td>20</td>\n",
              "      <td>0</td>\n",
              "      <td>Namao Ward</td>\n",
              "      <td>NaN</td>\n",
              "      <td>2</td>\n",
              "      <td>150</td>\n",
              "      <td>45.0</td>\n",
              "      <td>30 - 60 Minutes</td>\n",
              "    </tr>\n",
              "    <tr>\n",
              "      <th>450</th>\n",
              "      <td>2023-09-27 14:24:35</td>\n",
              "      <td>North Stake Centre</td>\n",
              "      <td>Edmonton North Stake</td>\n",
              "      <td>2</td>\n",
              "      <td>0</td>\n",
              "      <td>20</td>\n",
              "      <td>0</td>\n",
              "      <td>Namao Ward</td>\n",
              "      <td>NaN</td>\n",
              "      <td>2</td>\n",
              "      <td>150</td>\n",
              "      <td>45.0</td>\n",
              "      <td>30 - 60 Minutes</td>\n",
              "    </tr>\n",
              "    <tr>\n",
              "      <th>451</th>\n",
              "      <td>2023-09-28 20:44:23</td>\n",
              "      <td>Parkland (Spruce Grove/Stony Plain)</td>\n",
              "      <td>Edmonton North Stake</td>\n",
              "      <td>2</td>\n",
              "      <td>4</td>\n",
              "      <td>51</td>\n",
              "      <td>1</td>\n",
              "      <td>Stony Plain Ward</td>\n",
              "      <td>NaN</td>\n",
              "      <td>2</td>\n",
              "      <td>194</td>\n",
              "      <td>120.0</td>\n",
              "      <td>2+ Hours</td>\n",
              "    </tr>\n",
              "    <tr>\n",
              "      <th>452</th>\n",
              "      <td>2023-10-15 11:15:43</td>\n",
              "      <td>North Stake Centre</td>\n",
              "      <td>Edmonton North Stake</td>\n",
              "      <td>3</td>\n",
              "      <td>0</td>\n",
              "      <td>78</td>\n",
              "      <td>1</td>\n",
              "      <td>Griesbach Ward</td>\n",
              "      <td>NaN</td>\n",
              "      <td>3</td>\n",
              "      <td>600</td>\n",
              "      <td>150.0</td>\n",
              "      <td>2+ Hours</td>\n",
              "    </tr>\n",
              "    <tr>\n",
              "      <th>453</th>\n",
              "      <td>NaN</td>\n",
              "      <td>Londonderry Chapel</td>\n",
              "      <td>Edmonton North Stake</td>\n",
              "      <td>2</td>\n",
              "      <td>2</td>\n",
              "      <td>5</td>\n",
              "      <td>0</td>\n",
              "      <td>Lago Lindo Branch</td>\n",
              "      <td>NaN</td>\n",
              "      <td>2</td>\n",
              "      <td>194</td>\n",
              "      <td>NaN</td>\n",
              "      <td>0 - 30 Minutes</td>\n",
              "    </tr>\n",
              "  </tbody>\n",
              "</table>\n",
              "</div>\n",
              "    <div class=\"colab-df-buttons\">\n",
              "\n",
              "  <div class=\"colab-df-container\">\n",
              "    <button class=\"colab-df-convert\" onclick=\"convertToInteractive('df-5b2e24fc-2bce-4075-a296-c12ef3f2ae8e')\"\n",
              "            title=\"Convert this dataframe to an interactive table.\"\n",
              "            style=\"display:none;\">\n",
              "\n",
              "  <svg xmlns=\"http://www.w3.org/2000/svg\" height=\"24px\" viewBox=\"0 -960 960 960\">\n",
              "    <path d=\"M120-120v-720h720v720H120Zm60-500h600v-160H180v160Zm220 220h160v-160H400v160Zm0 220h160v-160H400v160ZM180-400h160v-160H180v160Zm440 0h160v-160H620v160ZM180-180h160v-160H180v160Zm440 0h160v-160H620v160Z\"/>\n",
              "  </svg>\n",
              "    </button>\n",
              "\n",
              "  <style>\n",
              "    .colab-df-container {\n",
              "      display:flex;\n",
              "      gap: 12px;\n",
              "    }\n",
              "\n",
              "    .colab-df-convert {\n",
              "      background-color: #E8F0FE;\n",
              "      border: none;\n",
              "      border-radius: 50%;\n",
              "      cursor: pointer;\n",
              "      display: none;\n",
              "      fill: #1967D2;\n",
              "      height: 32px;\n",
              "      padding: 0 0 0 0;\n",
              "      width: 32px;\n",
              "    }\n",
              "\n",
              "    .colab-df-convert:hover {\n",
              "      background-color: #E2EBFA;\n",
              "      box-shadow: 0px 1px 2px rgba(60, 64, 67, 0.3), 0px 1px 3px 1px rgba(60, 64, 67, 0.15);\n",
              "      fill: #174EA6;\n",
              "    }\n",
              "\n",
              "    .colab-df-buttons div {\n",
              "      margin-bottom: 4px;\n",
              "    }\n",
              "\n",
              "    [theme=dark] .colab-df-convert {\n",
              "      background-color: #3B4455;\n",
              "      fill: #D2E3FC;\n",
              "    }\n",
              "\n",
              "    [theme=dark] .colab-df-convert:hover {\n",
              "      background-color: #434B5C;\n",
              "      box-shadow: 0px 1px 3px 1px rgba(0, 0, 0, 0.15);\n",
              "      filter: drop-shadow(0px 1px 2px rgba(0, 0, 0, 0.3));\n",
              "      fill: #FFFFFF;\n",
              "    }\n",
              "  </style>\n",
              "\n",
              "    <script>\n",
              "      const buttonEl =\n",
              "        document.querySelector('#df-5b2e24fc-2bce-4075-a296-c12ef3f2ae8e button.colab-df-convert');\n",
              "      buttonEl.style.display =\n",
              "        google.colab.kernel.accessAllowed ? 'block' : 'none';\n",
              "\n",
              "      async function convertToInteractive(key) {\n",
              "        const element = document.querySelector('#df-5b2e24fc-2bce-4075-a296-c12ef3f2ae8e');\n",
              "        const dataTable =\n",
              "          await google.colab.kernel.invokeFunction('convertToInteractive',\n",
              "                                                    [key], {});\n",
              "        if (!dataTable) return;\n",
              "\n",
              "        const docLinkHtml = 'Like what you see? Visit the ' +\n",
              "          '<a target=\"_blank\" href=https://colab.research.google.com/notebooks/data_table.ipynb>data table notebook</a>'\n",
              "          + ' to learn more about interactive tables.';\n",
              "        element.innerHTML = '';\n",
              "        dataTable['output_type'] = 'display_data';\n",
              "        await google.colab.output.renderOutput(dataTable, element);\n",
              "        const docLink = document.createElement('div');\n",
              "        docLink.innerHTML = docLinkHtml;\n",
              "        element.appendChild(docLink);\n",
              "      }\n",
              "    </script>\n",
              "  </div>\n",
              "\n",
              "\n",
              "<div id=\"df-0441a7d4-7e29-41f8-b994-7a4f660cbd8c\">\n",
              "  <button class=\"colab-df-quickchart\" onclick=\"quickchart('df-0441a7d4-7e29-41f8-b994-7a4f660cbd8c')\"\n",
              "            title=\"Suggest charts\"\n",
              "            style=\"display:none;\">\n",
              "\n",
              "<svg xmlns=\"http://www.w3.org/2000/svg\" height=\"24px\"viewBox=\"0 0 24 24\"\n",
              "     width=\"24px\">\n",
              "    <g>\n",
              "        <path d=\"M19 3H5c-1.1 0-2 .9-2 2v14c0 1.1.9 2 2 2h14c1.1 0 2-.9 2-2V5c0-1.1-.9-2-2-2zM9 17H7v-7h2v7zm4 0h-2V7h2v10zm4 0h-2v-4h2v4z\"/>\n",
              "    </g>\n",
              "</svg>\n",
              "  </button>\n",
              "\n",
              "<style>\n",
              "  .colab-df-quickchart {\n",
              "      --bg-color: #E8F0FE;\n",
              "      --fill-color: #1967D2;\n",
              "      --hover-bg-color: #E2EBFA;\n",
              "      --hover-fill-color: #174EA6;\n",
              "      --disabled-fill-color: #AAA;\n",
              "      --disabled-bg-color: #DDD;\n",
              "  }\n",
              "\n",
              "  [theme=dark] .colab-df-quickchart {\n",
              "      --bg-color: #3B4455;\n",
              "      --fill-color: #D2E3FC;\n",
              "      --hover-bg-color: #434B5C;\n",
              "      --hover-fill-color: #FFFFFF;\n",
              "      --disabled-bg-color: #3B4455;\n",
              "      --disabled-fill-color: #666;\n",
              "  }\n",
              "\n",
              "  .colab-df-quickchart {\n",
              "    background-color: var(--bg-color);\n",
              "    border: none;\n",
              "    border-radius: 50%;\n",
              "    cursor: pointer;\n",
              "    display: none;\n",
              "    fill: var(--fill-color);\n",
              "    height: 32px;\n",
              "    padding: 0;\n",
              "    width: 32px;\n",
              "  }\n",
              "\n",
              "  .colab-df-quickchart:hover {\n",
              "    background-color: var(--hover-bg-color);\n",
              "    box-shadow: 0 1px 2px rgba(60, 64, 67, 0.3), 0 1px 3px 1px rgba(60, 64, 67, 0.15);\n",
              "    fill: var(--button-hover-fill-color);\n",
              "  }\n",
              "\n",
              "  .colab-df-quickchart-complete:disabled,\n",
              "  .colab-df-quickchart-complete:disabled:hover {\n",
              "    background-color: var(--disabled-bg-color);\n",
              "    fill: var(--disabled-fill-color);\n",
              "    box-shadow: none;\n",
              "  }\n",
              "\n",
              "  .colab-df-spinner {\n",
              "    border: 2px solid var(--fill-color);\n",
              "    border-color: transparent;\n",
              "    border-bottom-color: var(--fill-color);\n",
              "    animation:\n",
              "      spin 1s steps(1) infinite;\n",
              "  }\n",
              "\n",
              "  @keyframes spin {\n",
              "    0% {\n",
              "      border-color: transparent;\n",
              "      border-bottom-color: var(--fill-color);\n",
              "      border-left-color: var(--fill-color);\n",
              "    }\n",
              "    20% {\n",
              "      border-color: transparent;\n",
              "      border-left-color: var(--fill-color);\n",
              "      border-top-color: var(--fill-color);\n",
              "    }\n",
              "    30% {\n",
              "      border-color: transparent;\n",
              "      border-left-color: var(--fill-color);\n",
              "      border-top-color: var(--fill-color);\n",
              "      border-right-color: var(--fill-color);\n",
              "    }\n",
              "    40% {\n",
              "      border-color: transparent;\n",
              "      border-right-color: var(--fill-color);\n",
              "      border-top-color: var(--fill-color);\n",
              "    }\n",
              "    60% {\n",
              "      border-color: transparent;\n",
              "      border-right-color: var(--fill-color);\n",
              "    }\n",
              "    80% {\n",
              "      border-color: transparent;\n",
              "      border-right-color: var(--fill-color);\n",
              "      border-bottom-color: var(--fill-color);\n",
              "    }\n",
              "    90% {\n",
              "      border-color: transparent;\n",
              "      border-bottom-color: var(--fill-color);\n",
              "    }\n",
              "  }\n",
              "</style>\n",
              "\n",
              "  <script>\n",
              "    async function quickchart(key) {\n",
              "      const quickchartButtonEl =\n",
              "        document.querySelector('#' + key + ' button');\n",
              "      quickchartButtonEl.disabled = true;  // To prevent multiple clicks.\n",
              "      quickchartButtonEl.classList.add('colab-df-spinner');\n",
              "      try {\n",
              "        const charts = await google.colab.kernel.invokeFunction(\n",
              "            'suggestCharts', [key], {});\n",
              "      } catch (error) {\n",
              "        console.error('Error during call to suggestCharts:', error);\n",
              "      }\n",
              "      quickchartButtonEl.classList.remove('colab-df-spinner');\n",
              "      quickchartButtonEl.classList.add('colab-df-quickchart-complete');\n",
              "    }\n",
              "    (() => {\n",
              "      let quickchartButtonEl =\n",
              "        document.querySelector('#df-0441a7d4-7e29-41f8-b994-7a4f660cbd8c button');\n",
              "      quickchartButtonEl.style.display =\n",
              "        google.colab.kernel.accessAllowed ? 'block' : 'none';\n",
              "    })();\n",
              "  </script>\n",
              "</div>\n",
              "\n",
              "    </div>\n",
              "  </div>\n"
            ],
            "application/vnd.google.colaboratory.intrinsic+json": {
              "type": "dataframe",
              "repr_error": "0"
            }
          },
          "metadata": {},
          "execution_count": 6
        }
      ]
    },
    {
      "cell_type": "code",
      "source": [
        "data_2024.head()"
      ],
      "metadata": {
        "colab": {
          "base_uri": "https://localhost:8080/",
          "height": 434
        },
        "id": "1tbPPeyrQY3y",
        "outputId": "0c805921-d051-4a57-8ee0-5afd522eb782"
      },
      "execution_count": null,
      "outputs": [
        {
          "output_type": "execute_result",
          "data": {
            "text/plain": [
              "  How did you receive the form?         Drop Off Location              Stake  \\\n",
              "0                     In person           Bearspaw Chapel    Riverbend Stake   \n",
              "1                     In person        Londonberry Chapel  Bonnie Doon Stake   \n",
              "2                     In person      Gateway Stake Centre      Gateway Stake   \n",
              "3                     In person  Bonnie Doon Stake Centre  Bonnie Doon Stake   \n",
              "4                     In person           Bearspaw Chapel      Gateway Stake   \n",
              "\n",
              "  Route Number/Name       Time Spent  # of Adult Volunteers  \\\n",
              "0               676   0 - 30 Minutes                      7   \n",
              "1        Unassigned   0 - 30 Minutes                      1   \n",
              "2                50   0 - 30 Minutes                      2   \n",
              "3                98   0 - 30 Minutes                      2   \n",
              "4                 6  30 - 60 Minutes                      2   \n",
              "\n",
              "   # of Youth Volunteers  Doors in Route  Donation Bags Collected  \\\n",
              "0                      7              78                       59   \n",
              "1                      0               1                        1   \n",
              "2                      2              20                       20   \n",
              "3                      2              20                       15   \n",
              "4                      3             144                       25   \n",
              "\n",
              "  Completed More Than One Route Routes Completed  \\\n",
              "0                            No              NaN   \n",
              "1                            No              NaN   \n",
              "2                            No              NaN   \n",
              "3                            No              NaN   \n",
              "4                           Yes                2   \n",
              "\n",
              "  Additional Routes completed (2 routes)  \\\n",
              "0                                    NaN   \n",
              "1                                    NaN   \n",
              "2                                    NaN   \n",
              "3                                    NaN   \n",
              "4                                      2   \n",
              "\n",
              "  Additional routes completed (3 routes)  \\\n",
              "0                                    NaN   \n",
              "1                                    NaN   \n",
              "2                                    NaN   \n",
              "3                                    NaN   \n",
              "4                                    NaN   \n",
              "\n",
              "  Additional routes completed (3 routes)2  \\\n",
              "0                                     NaN   \n",
              "1                                     NaN   \n",
              "2                                     NaN   \n",
              "3                                     NaN   \n",
              "4                                     NaN   \n",
              "\n",
              "  Additional routes completed (More than 3 Routes)  \\\n",
              "0                                              NaN   \n",
              "1                                              NaN   \n",
              "2                                              NaN   \n",
              "3                                              NaN   \n",
              "4                                              NaN   \n",
              "\n",
              "  Additional routes completed (More than 3 Routes)2  \\\n",
              "0                                               NaN   \n",
              "1                                               NaN   \n",
              "2                                               NaN   \n",
              "3                                               NaN   \n",
              "4                                               NaN   \n",
              "\n",
              "  Additional routes completed (More than 3 Routes)3 Comments or Feedback  \\\n",
              "0                                               NaN                  NaN   \n",
              "1                                               NaN                  NaN   \n",
              "2                                               NaN                  NaN   \n",
              "3                                               NaN                  NaN   \n",
              "4                                               NaN                  NaN   \n",
              "\n",
              "                  Ward  \n",
              "0        Woodbend Ward  \n",
              "1       Clareview Ward  \n",
              "2       Lee Ridge Ward  \n",
              "3  Forest Heights Ward  \n",
              "4       Lee Ridge Ward  "
            ],
            "text/html": [
              "\n",
              "  <div id=\"df-25001aef-c71d-4267-a070-1ad9830af724\" class=\"colab-df-container\">\n",
              "    <div>\n",
              "<style scoped>\n",
              "    .dataframe tbody tr th:only-of-type {\n",
              "        vertical-align: middle;\n",
              "    }\n",
              "\n",
              "    .dataframe tbody tr th {\n",
              "        vertical-align: top;\n",
              "    }\n",
              "\n",
              "    .dataframe thead th {\n",
              "        text-align: right;\n",
              "    }\n",
              "</style>\n",
              "<table border=\"1\" class=\"dataframe\">\n",
              "  <thead>\n",
              "    <tr style=\"text-align: right;\">\n",
              "      <th></th>\n",
              "      <th>How did you receive the form?</th>\n",
              "      <th>Drop Off Location</th>\n",
              "      <th>Stake</th>\n",
              "      <th>Route Number/Name</th>\n",
              "      <th>Time Spent</th>\n",
              "      <th># of Adult Volunteers</th>\n",
              "      <th># of Youth Volunteers</th>\n",
              "      <th>Doors in Route</th>\n",
              "      <th>Donation Bags Collected</th>\n",
              "      <th>Completed More Than One Route</th>\n",
              "      <th>Routes Completed</th>\n",
              "      <th>Additional Routes completed (2 routes)</th>\n",
              "      <th>Additional routes completed (3 routes)</th>\n",
              "      <th>Additional routes completed (3 routes)2</th>\n",
              "      <th>Additional routes completed (More than 3 Routes)</th>\n",
              "      <th>Additional routes completed (More than 3 Routes)2</th>\n",
              "      <th>Additional routes completed (More than 3 Routes)3</th>\n",
              "      <th>Comments or Feedback</th>\n",
              "      <th>Ward</th>\n",
              "    </tr>\n",
              "  </thead>\n",
              "  <tbody>\n",
              "    <tr>\n",
              "      <th>0</th>\n",
              "      <td>In person</td>\n",
              "      <td>Bearspaw Chapel</td>\n",
              "      <td>Riverbend Stake</td>\n",
              "      <td>676</td>\n",
              "      <td>0 - 30 Minutes</td>\n",
              "      <td>7</td>\n",
              "      <td>7</td>\n",
              "      <td>78</td>\n",
              "      <td>59</td>\n",
              "      <td>No</td>\n",
              "      <td>NaN</td>\n",
              "      <td>NaN</td>\n",
              "      <td>NaN</td>\n",
              "      <td>NaN</td>\n",
              "      <td>NaN</td>\n",
              "      <td>NaN</td>\n",
              "      <td>NaN</td>\n",
              "      <td>NaN</td>\n",
              "      <td>Woodbend Ward</td>\n",
              "    </tr>\n",
              "    <tr>\n",
              "      <th>1</th>\n",
              "      <td>In person</td>\n",
              "      <td>Londonberry Chapel</td>\n",
              "      <td>Bonnie Doon Stake</td>\n",
              "      <td>Unassigned</td>\n",
              "      <td>0 - 30 Minutes</td>\n",
              "      <td>1</td>\n",
              "      <td>0</td>\n",
              "      <td>1</td>\n",
              "      <td>1</td>\n",
              "      <td>No</td>\n",
              "      <td>NaN</td>\n",
              "      <td>NaN</td>\n",
              "      <td>NaN</td>\n",
              "      <td>NaN</td>\n",
              "      <td>NaN</td>\n",
              "      <td>NaN</td>\n",
              "      <td>NaN</td>\n",
              "      <td>NaN</td>\n",
              "      <td>Clareview Ward</td>\n",
              "    </tr>\n",
              "    <tr>\n",
              "      <th>2</th>\n",
              "      <td>In person</td>\n",
              "      <td>Gateway Stake Centre</td>\n",
              "      <td>Gateway Stake</td>\n",
              "      <td>50</td>\n",
              "      <td>0 - 30 Minutes</td>\n",
              "      <td>2</td>\n",
              "      <td>2</td>\n",
              "      <td>20</td>\n",
              "      <td>20</td>\n",
              "      <td>No</td>\n",
              "      <td>NaN</td>\n",
              "      <td>NaN</td>\n",
              "      <td>NaN</td>\n",
              "      <td>NaN</td>\n",
              "      <td>NaN</td>\n",
              "      <td>NaN</td>\n",
              "      <td>NaN</td>\n",
              "      <td>NaN</td>\n",
              "      <td>Lee Ridge Ward</td>\n",
              "    </tr>\n",
              "    <tr>\n",
              "      <th>3</th>\n",
              "      <td>In person</td>\n",
              "      <td>Bonnie Doon Stake Centre</td>\n",
              "      <td>Bonnie Doon Stake</td>\n",
              "      <td>98</td>\n",
              "      <td>0 - 30 Minutes</td>\n",
              "      <td>2</td>\n",
              "      <td>2</td>\n",
              "      <td>20</td>\n",
              "      <td>15</td>\n",
              "      <td>No</td>\n",
              "      <td>NaN</td>\n",
              "      <td>NaN</td>\n",
              "      <td>NaN</td>\n",
              "      <td>NaN</td>\n",
              "      <td>NaN</td>\n",
              "      <td>NaN</td>\n",
              "      <td>NaN</td>\n",
              "      <td>NaN</td>\n",
              "      <td>Forest Heights Ward</td>\n",
              "    </tr>\n",
              "    <tr>\n",
              "      <th>4</th>\n",
              "      <td>In person</td>\n",
              "      <td>Bearspaw Chapel</td>\n",
              "      <td>Gateway Stake</td>\n",
              "      <td>6</td>\n",
              "      <td>30 - 60 Minutes</td>\n",
              "      <td>2</td>\n",
              "      <td>3</td>\n",
              "      <td>144</td>\n",
              "      <td>25</td>\n",
              "      <td>Yes</td>\n",
              "      <td>2</td>\n",
              "      <td>2</td>\n",
              "      <td>NaN</td>\n",
              "      <td>NaN</td>\n",
              "      <td>NaN</td>\n",
              "      <td>NaN</td>\n",
              "      <td>NaN</td>\n",
              "      <td>NaN</td>\n",
              "      <td>Lee Ridge Ward</td>\n",
              "    </tr>\n",
              "  </tbody>\n",
              "</table>\n",
              "</div>\n",
              "    <div class=\"colab-df-buttons\">\n",
              "\n",
              "  <div class=\"colab-df-container\">\n",
              "    <button class=\"colab-df-convert\" onclick=\"convertToInteractive('df-25001aef-c71d-4267-a070-1ad9830af724')\"\n",
              "            title=\"Convert this dataframe to an interactive table.\"\n",
              "            style=\"display:none;\">\n",
              "\n",
              "  <svg xmlns=\"http://www.w3.org/2000/svg\" height=\"24px\" viewBox=\"0 -960 960 960\">\n",
              "    <path d=\"M120-120v-720h720v720H120Zm60-500h600v-160H180v160Zm220 220h160v-160H400v160Zm0 220h160v-160H400v160ZM180-400h160v-160H180v160Zm440 0h160v-160H620v160ZM180-180h160v-160H180v160Zm440 0h160v-160H620v160Z\"/>\n",
              "  </svg>\n",
              "    </button>\n",
              "\n",
              "  <style>\n",
              "    .colab-df-container {\n",
              "      display:flex;\n",
              "      gap: 12px;\n",
              "    }\n",
              "\n",
              "    .colab-df-convert {\n",
              "      background-color: #E8F0FE;\n",
              "      border: none;\n",
              "      border-radius: 50%;\n",
              "      cursor: pointer;\n",
              "      display: none;\n",
              "      fill: #1967D2;\n",
              "      height: 32px;\n",
              "      padding: 0 0 0 0;\n",
              "      width: 32px;\n",
              "    }\n",
              "\n",
              "    .colab-df-convert:hover {\n",
              "      background-color: #E2EBFA;\n",
              "      box-shadow: 0px 1px 2px rgba(60, 64, 67, 0.3), 0px 1px 3px 1px rgba(60, 64, 67, 0.15);\n",
              "      fill: #174EA6;\n",
              "    }\n",
              "\n",
              "    .colab-df-buttons div {\n",
              "      margin-bottom: 4px;\n",
              "    }\n",
              "\n",
              "    [theme=dark] .colab-df-convert {\n",
              "      background-color: #3B4455;\n",
              "      fill: #D2E3FC;\n",
              "    }\n",
              "\n",
              "    [theme=dark] .colab-df-convert:hover {\n",
              "      background-color: #434B5C;\n",
              "      box-shadow: 0px 1px 3px 1px rgba(0, 0, 0, 0.15);\n",
              "      filter: drop-shadow(0px 1px 2px rgba(0, 0, 0, 0.3));\n",
              "      fill: #FFFFFF;\n",
              "    }\n",
              "  </style>\n",
              "\n",
              "    <script>\n",
              "      const buttonEl =\n",
              "        document.querySelector('#df-25001aef-c71d-4267-a070-1ad9830af724 button.colab-df-convert');\n",
              "      buttonEl.style.display =\n",
              "        google.colab.kernel.accessAllowed ? 'block' : 'none';\n",
              "\n",
              "      async function convertToInteractive(key) {\n",
              "        const element = document.querySelector('#df-25001aef-c71d-4267-a070-1ad9830af724');\n",
              "        const dataTable =\n",
              "          await google.colab.kernel.invokeFunction('convertToInteractive',\n",
              "                                                    [key], {});\n",
              "        if (!dataTable) return;\n",
              "\n",
              "        const docLinkHtml = 'Like what you see? Visit the ' +\n",
              "          '<a target=\"_blank\" href=https://colab.research.google.com/notebooks/data_table.ipynb>data table notebook</a>'\n",
              "          + ' to learn more about interactive tables.';\n",
              "        element.innerHTML = '';\n",
              "        dataTable['output_type'] = 'display_data';\n",
              "        await google.colab.output.renderOutput(dataTable, element);\n",
              "        const docLink = document.createElement('div');\n",
              "        docLink.innerHTML = docLinkHtml;\n",
              "        element.appendChild(docLink);\n",
              "      }\n",
              "    </script>\n",
              "  </div>\n",
              "\n",
              "\n",
              "<div id=\"df-050a2a27-e064-4c19-8ca6-0e07b3b39189\">\n",
              "  <button class=\"colab-df-quickchart\" onclick=\"quickchart('df-050a2a27-e064-4c19-8ca6-0e07b3b39189')\"\n",
              "            title=\"Suggest charts\"\n",
              "            style=\"display:none;\">\n",
              "\n",
              "<svg xmlns=\"http://www.w3.org/2000/svg\" height=\"24px\"viewBox=\"0 0 24 24\"\n",
              "     width=\"24px\">\n",
              "    <g>\n",
              "        <path d=\"M19 3H5c-1.1 0-2 .9-2 2v14c0 1.1.9 2 2 2h14c1.1 0 2-.9 2-2V5c0-1.1-.9-2-2-2zM9 17H7v-7h2v7zm4 0h-2V7h2v10zm4 0h-2v-4h2v4z\"/>\n",
              "    </g>\n",
              "</svg>\n",
              "  </button>\n",
              "\n",
              "<style>\n",
              "  .colab-df-quickchart {\n",
              "      --bg-color: #E8F0FE;\n",
              "      --fill-color: #1967D2;\n",
              "      --hover-bg-color: #E2EBFA;\n",
              "      --hover-fill-color: #174EA6;\n",
              "      --disabled-fill-color: #AAA;\n",
              "      --disabled-bg-color: #DDD;\n",
              "  }\n",
              "\n",
              "  [theme=dark] .colab-df-quickchart {\n",
              "      --bg-color: #3B4455;\n",
              "      --fill-color: #D2E3FC;\n",
              "      --hover-bg-color: #434B5C;\n",
              "      --hover-fill-color: #FFFFFF;\n",
              "      --disabled-bg-color: #3B4455;\n",
              "      --disabled-fill-color: #666;\n",
              "  }\n",
              "\n",
              "  .colab-df-quickchart {\n",
              "    background-color: var(--bg-color);\n",
              "    border: none;\n",
              "    border-radius: 50%;\n",
              "    cursor: pointer;\n",
              "    display: none;\n",
              "    fill: var(--fill-color);\n",
              "    height: 32px;\n",
              "    padding: 0;\n",
              "    width: 32px;\n",
              "  }\n",
              "\n",
              "  .colab-df-quickchart:hover {\n",
              "    background-color: var(--hover-bg-color);\n",
              "    box-shadow: 0 1px 2px rgba(60, 64, 67, 0.3), 0 1px 3px 1px rgba(60, 64, 67, 0.15);\n",
              "    fill: var(--button-hover-fill-color);\n",
              "  }\n",
              "\n",
              "  .colab-df-quickchart-complete:disabled,\n",
              "  .colab-df-quickchart-complete:disabled:hover {\n",
              "    background-color: var(--disabled-bg-color);\n",
              "    fill: var(--disabled-fill-color);\n",
              "    box-shadow: none;\n",
              "  }\n",
              "\n",
              "  .colab-df-spinner {\n",
              "    border: 2px solid var(--fill-color);\n",
              "    border-color: transparent;\n",
              "    border-bottom-color: var(--fill-color);\n",
              "    animation:\n",
              "      spin 1s steps(1) infinite;\n",
              "  }\n",
              "\n",
              "  @keyframes spin {\n",
              "    0% {\n",
              "      border-color: transparent;\n",
              "      border-bottom-color: var(--fill-color);\n",
              "      border-left-color: var(--fill-color);\n",
              "    }\n",
              "    20% {\n",
              "      border-color: transparent;\n",
              "      border-left-color: var(--fill-color);\n",
              "      border-top-color: var(--fill-color);\n",
              "    }\n",
              "    30% {\n",
              "      border-color: transparent;\n",
              "      border-left-color: var(--fill-color);\n",
              "      border-top-color: var(--fill-color);\n",
              "      border-right-color: var(--fill-color);\n",
              "    }\n",
              "    40% {\n",
              "      border-color: transparent;\n",
              "      border-right-color: var(--fill-color);\n",
              "      border-top-color: var(--fill-color);\n",
              "    }\n",
              "    60% {\n",
              "      border-color: transparent;\n",
              "      border-right-color: var(--fill-color);\n",
              "    }\n",
              "    80% {\n",
              "      border-color: transparent;\n",
              "      border-right-color: var(--fill-color);\n",
              "      border-bottom-color: var(--fill-color);\n",
              "    }\n",
              "    90% {\n",
              "      border-color: transparent;\n",
              "      border-bottom-color: var(--fill-color);\n",
              "    }\n",
              "  }\n",
              "</style>\n",
              "\n",
              "  <script>\n",
              "    async function quickchart(key) {\n",
              "      const quickchartButtonEl =\n",
              "        document.querySelector('#' + key + ' button');\n",
              "      quickchartButtonEl.disabled = true;  // To prevent multiple clicks.\n",
              "      quickchartButtonEl.classList.add('colab-df-spinner');\n",
              "      try {\n",
              "        const charts = await google.colab.kernel.invokeFunction(\n",
              "            'suggestCharts', [key], {});\n",
              "      } catch (error) {\n",
              "        console.error('Error during call to suggestCharts:', error);\n",
              "      }\n",
              "      quickchartButtonEl.classList.remove('colab-df-spinner');\n",
              "      quickchartButtonEl.classList.add('colab-df-quickchart-complete');\n",
              "    }\n",
              "    (() => {\n",
              "      let quickchartButtonEl =\n",
              "        document.querySelector('#df-050a2a27-e064-4c19-8ca6-0e07b3b39189 button');\n",
              "      quickchartButtonEl.style.display =\n",
              "        google.colab.kernel.accessAllowed ? 'block' : 'none';\n",
              "    })();\n",
              "  </script>\n",
              "</div>\n",
              "\n",
              "    </div>\n",
              "  </div>\n"
            ],
            "application/vnd.google.colaboratory.intrinsic+json": {
              "type": "dataframe",
              "variable_name": "data_2024",
              "summary": "{\n  \"name\": \"data_2024\",\n  \"rows\": 447,\n  \"fields\": [\n    {\n      \"column\": \"How did you receive the form?\",\n      \"properties\": {\n        \"dtype\": \"category\",\n        \"num_unique_values\": 2,\n        \"samples\": [\n          \"via Email\",\n          \"In person\"\n        ],\n        \"semantic_type\": \"\",\n        \"description\": \"\"\n      }\n    },\n    {\n      \"column\": \"Drop Off Location\",\n      \"properties\": {\n        \"dtype\": \"category\",\n        \"num_unique_values\": 7,\n        \"samples\": [\n          \"Bearspaw Chapel\",\n          \"Londonberry Chapel\"\n        ],\n        \"semantic_type\": \"\",\n        \"description\": \"\"\n      }\n    },\n    {\n      \"column\": \"Stake\",\n      \"properties\": {\n        \"dtype\": \"category\",\n        \"num_unique_values\": 5,\n        \"samples\": [\n          \"Bonnie Doon Stake\",\n          \"YSA Stake\"\n        ],\n        \"semantic_type\": \"\",\n        \"description\": \"\"\n      }\n    },\n    {\n      \"column\": \"Route Number/Name\",\n      \"properties\": {\n        \"dtype\": \"string\",\n        \"num_unique_values\": 257,\n        \"samples\": [\n          \"205\",\n          \"grey stone manor\"\n        ],\n        \"semantic_type\": \"\",\n        \"description\": \"\"\n      }\n    },\n    {\n      \"column\": \"Time Spent\",\n      \"properties\": {\n        \"dtype\": \"category\",\n        \"num_unique_values\": 4,\n        \"samples\": [\n          \"30 - 60 Minutes\",\n          \"2+ Hours\"\n        ],\n        \"semantic_type\": \"\",\n        \"description\": \"\"\n      }\n    },\n    {\n      \"column\": \"# of Adult Volunteers\",\n      \"properties\": {\n        \"dtype\": \"number\",\n        \"std\": 0,\n        \"min\": 0,\n        \"max\": 7,\n        \"num_unique_values\": 8,\n        \"samples\": [\n          1,\n          0\n        ],\n        \"semantic_type\": \"\",\n        \"description\": \"\"\n      }\n    },\n    {\n      \"column\": \"# of Youth Volunteers\",\n      \"properties\": {\n        \"dtype\": \"number\",\n        \"std\": 1,\n        \"min\": 0,\n        \"max\": 10,\n        \"num_unique_values\": 11,\n        \"samples\": [\n          1,\n          7\n        ],\n        \"semantic_type\": \"\",\n        \"description\": \"\"\n      }\n    },\n    {\n      \"column\": \"Doors in Route\",\n      \"properties\": {\n        \"dtype\": \"number\",\n        \"std\": 155,\n        \"min\": 0,\n        \"max\": 1751,\n        \"num_unique_values\": 196,\n        \"samples\": [\n          264,\n          6\n        ],\n        \"semantic_type\": \"\",\n        \"description\": \"\"\n      }\n    },\n    {\n      \"column\": \"Donation Bags Collected\",\n      \"properties\": {\n        \"dtype\": \"number\",\n        \"std\": 33,\n        \"min\": 1,\n        \"max\": 500,\n        \"num_unique_values\": 77,\n        \"samples\": [\n          25,\n          9\n        ],\n        \"semantic_type\": \"\",\n        \"description\": \"\"\n      }\n    },\n    {\n      \"column\": \"Completed More Than One Route\",\n      \"properties\": {\n        \"dtype\": \"category\",\n        \"num_unique_values\": 2,\n        \"samples\": [\n          \"Yes\",\n          \"No\"\n        ],\n        \"semantic_type\": \"\",\n        \"description\": \"\"\n      }\n    },\n    {\n      \"column\": \"Routes Completed\",\n      \"properties\": {\n        \"dtype\": \"category\",\n        \"num_unique_values\": 3,\n        \"samples\": [\n          \"2\",\n          \"3\"\n        ],\n        \"semantic_type\": \"\",\n        \"description\": \"\"\n      }\n    },\n    {\n      \"column\": \"Additional Routes completed (2 routes)\",\n      \"properties\": {\n        \"dtype\": \"category\",\n        \"num_unique_values\": 72,\n        \"samples\": [\n          \"0\",\n          \"Sherbrooke E\"\n        ],\n        \"semantic_type\": \"\",\n        \"description\": \"\"\n      }\n    },\n    {\n      \"column\": \"Additional routes completed (3 routes)\",\n      \"properties\": {\n        \"dtype\": \"category\",\n        \"num_unique_values\": 23,\n        \"samples\": [\n          \"14\",\n          \"21\"\n        ],\n        \"semantic_type\": \"\",\n        \"description\": \"\"\n      }\n    },\n    {\n      \"column\": \"Additional routes completed (3 routes)2\",\n      \"properties\": {\n        \"dtype\": \"category\",\n        \"num_unique_values\": 23,\n        \"samples\": [\n          \"2-1.2\",\n          \"22\"\n        ],\n        \"semantic_type\": \"\",\n        \"description\": \"\"\n      }\n    },\n    {\n      \"column\": \"Additional routes completed (More than 3 Routes)\",\n      \"properties\": {\n        \"dtype\": \"category\",\n        \"num_unique_values\": 10,\n        \"samples\": [\n          \"33\",\n          \"See above\"\n        ],\n        \"semantic_type\": \"\",\n        \"description\": \"\"\n      }\n    },\n    {\n      \"column\": \"Additional routes completed (More than 3 Routes)2\",\n      \"properties\": {\n        \"dtype\": \"category\",\n        \"num_unique_values\": 10,\n        \"samples\": [\n          \"38\",\n          \"Se above\"\n        ],\n        \"semantic_type\": \"\",\n        \"description\": \"\"\n      }\n    },\n    {\n      \"column\": \"Additional routes completed (More than 3 Routes)3\",\n      \"properties\": {\n        \"dtype\": \"category\",\n        \"num_unique_values\": 9,\n        \"samples\": [\n          \"38\",\n          \"See above \"\n        ],\n        \"semantic_type\": \"\",\n        \"description\": \"\"\n      }\n    },\n    {\n      \"column\": \"Comments or Feedback\",\n      \"properties\": {\n        \"dtype\": \"category\",\n        \"num_unique_values\": 139,\n        \"samples\": [\n          \"I'm not sure about the number of doors, this is just an estimate - sorry!\",\n          \"Good experience speculating that some bag weren\\u0092t delivered to a few locations in the route\"\n        ],\n        \"semantic_type\": \"\",\n        \"description\": \"\"\n      }\n    },\n    {\n      \"column\": \"Ward\",\n      \"properties\": {\n        \"dtype\": \"category\",\n        \"num_unique_values\": 24,\n        \"samples\": [\n          \"Connors Hill Ward\",\n          \"Greenfield Ward\"\n        ],\n        \"semantic_type\": \"\",\n        \"description\": \"\"\n      }\n    }\n  ]\n}"
            }
          },
          "metadata": {},
          "execution_count": 7
        }
      ]
    },
    {
      "cell_type": "code",
      "source": [
        "# Encoding 'Completed More Than One Route' to be binary (1 for Yes, 0 for No) in the 2024 dataset\n",
        "data_2024['Completed More Than One Route'] = data_2024['Completed More Than One Route'].map({'Yes': 1, 'No': 0})\n",
        "\n",
        "# Verify 'Completed More Than One Route' column consistency in both datasets\n",
        "print(\"Unique values in 2023 'Completed More Than One Route':\", data_2023['Completed More Than One Route'].unique())\n",
        "print(\"Unique values in 2024 'Completed More Than One Route':\", data_2024['Completed More Than One Route'].unique())"
      ],
      "metadata": {
        "colab": {
          "base_uri": "https://localhost:8080/"
        },
        "id": "s4BRP7TpQ0FA",
        "outputId": "b5c6d376-ec34-4870-87ec-37cca29a75c1"
      },
      "execution_count": null,
      "outputs": [
        {
          "output_type": "stream",
          "name": "stdout",
          "text": [
            "Unique values in 2023 'Completed More Than One Route': [0 1]\n",
            "Unique values in 2024 'Completed More Than One Route': [0 1]\n"
          ]
        }
      ]
    },
    {
      "cell_type": "code",
      "source": [
        "print(\"Unique values in 2023 \", data_2023['Time Spent'].unique())\n",
        "print(\"Unique values in 2024 \", data_2024['Time Spent'].unique())"
      ],
      "metadata": {
        "colab": {
          "base_uri": "https://localhost:8080/"
        },
        "id": "6YBOs81vRtFf",
        "outputId": "469fac26-ad0c-4d01-fb9f-a6fafa4a5502"
      },
      "execution_count": null,
      "outputs": [
        {
          "output_type": "stream",
          "name": "stdout",
          "text": [
            "Unique values in 2023  ['0 - 30 Minutes' '30 - 60 Minutes' '1 Hour - 1.5 Hours' '2+ Hours']\n",
            "Unique values in 2024  ['0 - 30 Minutes' '30 - 60 Minutes' '1 Hour - 1.5 Hours' '2+ Hours']\n"
          ]
        }
      ]
    },
    {
      "cell_type": "code",
      "source": [
        "# Convert 'Routes Completed' to numeric equivalents\n",
        "# Assuming 'More than 3' should be treated as 4 for modeling purposes\n",
        "route_mapping = {\n",
        "    '1': 1,\n",
        "    '2': 2,\n",
        "    '3': 3,\n",
        "    'More than 3': 4\n",
        "}\n",
        "data_2023['Routes Completed'] = data_2023['Routes Completed'].map(route_mapping)\n",
        "data_2024['Routes Completed'] = data_2024['Routes Completed'].map(route_mapping)\n"
      ],
      "metadata": {
        "id": "1TzyeDn0XkFu"
      },
      "execution_count": null,
      "outputs": []
    },
    {
      "cell_type": "code",
      "source": [
        "# Encoding 'Time Spent' categorical ranges into numerical values for both datasets\n",
        "from sklearn.preprocessing import LabelEncoder\n",
        "encoder = LabelEncoder()\n",
        "data_2023['Time Spent'] = encoder.fit_transform(data_2023['Time Spent'])\n",
        "data_2024['Time Spent'] = encoder.transform(data_2024['Time Spent'])  # Ensuring consistency with 2023 encoding\n",
        "\n"
      ],
      "metadata": {
        "id": "UYcP4OB1Pd8U"
      },
      "execution_count": null,
      "outputs": []
    },
    {
      "cell_type": "code",
      "source": [
        "# Define features and target\n",
        "selected_columns = [\n",
        "    'Completed More Than One Route', 'Time Spent',\n",
        "    '# of Adult Volunteers', 'Doors in Route', '# of Youth Volunteers'\n",
        "]\n",
        "X_train = data_2023[selected_columns]\n",
        "y_train = data_2023['Donation Bags Collected']\n",
        "\n",
        "X_test = data_2024[selected_columns]\n",
        "y_test = data_2024['Donation Bags Collected']\n",
        "\n"
      ],
      "metadata": {
        "id": "2heAnbswP1MN"
      },
      "execution_count": null,
      "outputs": []
    },
    {
      "cell_type": "code",
      "source": [
        "print(\"Missing values in X_train:\\n\", X_train.isnull().sum())\n",
        "print(\"Missing values in X_test:\\n\", X_test.isnull().sum())"
      ],
      "metadata": {
        "colab": {
          "base_uri": "https://localhost:8080/"
        },
        "id": "CatCVO3BX9_r",
        "outputId": "43052b5a-a668-4b1e-dbe0-5323671b9f9d"
      },
      "execution_count": null,
      "outputs": [
        {
          "output_type": "stream",
          "name": "stdout",
          "text": [
            "Missing values in X_train:\n",
            " Completed More Than One Route    0\n",
            "Time Spent                       0\n",
            "# of Adult Volunteers            0\n",
            "Doors in Route                   0\n",
            "# of Youth Volunteers            0\n",
            "dtype: int64\n",
            "Missing values in X_test:\n",
            " Completed More Than One Route    0\n",
            "Time Spent                       0\n",
            "# of Adult Volunteers            0\n",
            "Doors in Route                   0\n",
            "# of Youth Volunteers            0\n",
            "dtype: int64\n"
          ]
        }
      ]
    },
    {
      "cell_type": "code",
      "source": [
        "# Model Training: Linear Regression as a baseline\n",
        "model = LinearRegression()\n",
        "model.fit(X_train, y_train)\n",
        "\n",
        "# Generate Predictions on 2024 Test Data\n",
        "y_pred = model.predict(X_test)\n",
        "\n"
      ],
      "metadata": {
        "id": "pUWpQs-HP_6H"
      },
      "execution_count": null,
      "outputs": []
    },
    {
      "cell_type": "code",
      "source": [
        "# Model Evaluation Metrics\n",
        "mae = mean_absolute_error(y_test, y_pred)\n",
        "r2 = r2_score(y_test, y_pred)\n",
        "\n",
        "# Print the Evaluation Results\n",
        "print(f\"Mean Absolute Error (MAE): {mae}\")\n",
        "print(f\"R-squared (R2): {r2}\")"
      ],
      "metadata": {
        "id": "4uvXv9OtQDnf",
        "colab": {
          "base_uri": "https://localhost:8080/"
        },
        "outputId": "edb74b7e-8b89-4140-a841-86bb6c36bc3c"
      },
      "execution_count": null,
      "outputs": [
        {
          "output_type": "stream",
          "name": "stdout",
          "text": [
            "Mean Absolute Error (MAE): 14.604353052517244\n",
            "R-squared (R2): 0.12102438557431117\n"
          ]
        }
      ]
    },
    {
      "cell_type": "markdown",
      "source": [
        "# Split the data into training and testing sets\n",
        "X_train, X_test, y_train, y_test = train_test_split(X, y, test_size=0.2, random_state=42)\n",
        "\n"
      ],
      "metadata": {
        "id": "C3JtyZKNczTO"
      }
    },
    {
      "cell_type": "code",
      "source": [
        "# Fit a regression model to predict the number of donation bags\n",
        "\n",
        "data_combined = pd.concat([data_2023, data_2024], ignore_index=True)\n",
        "\n",
        "# Define features (X) and target (y)\n",
        "X = data_combined[['Completed More Than One Route', 'Time Spent',\n",
        "                   '# of Adult Volunteers', 'Doors in Route', '# of Youth Volunteers']]\n",
        "y = data_combined['Donation Bags Collected']\n",
        "\n",
        "# Split data into training and testing sets (80-20 split)\n",
        "X_train, X_test, y_train, y_test = train_test_split(X, y, test_size=0.2, random_state=42)\n",
        "\n",
        "\n",
        "# Train a Linear Regression model\n",
        "model = LinearRegression()\n",
        "model.fit(X_train, y_train)\n",
        "\n",
        "# Make predictions on the test set\n",
        "y_pred = model.predict(X_test)\n",
        "\n"
      ],
      "metadata": {
        "id": "FZNqK0FQc2ak"
      },
      "execution_count": null,
      "outputs": []
    },
    {
      "cell_type": "code",
      "source": [
        "# Evaluate the model\n",
        "mae = mean_absolute_error(y_test, y_pred)\n",
        "r2 = r2_score(y_test, y_pred)\n",
        "\n",
        "print(f\"Mean Absolute Error (MAE): {mae}\")\n",
        "print(f\"R-squared (R2): {r2}\")\n",
        "\n",
        "# Display actual vs predicted values\n",
        "predictions_df = pd.DataFrame({\n",
        "    'Actual Donation Bags': y_test,\n",
        "    'Predicted Donation Bags': y_pred\n",
        "})\n",
        "print(predictions_df.head())\n"
      ],
      "metadata": {
        "colab": {
          "base_uri": "https://localhost:8080/"
        },
        "id": "BnxZ1M8QakIK",
        "outputId": "45237bb3-0370-4c94-af8f-194b0fc48c99"
      },
      "execution_count": null,
      "outputs": [
        {
          "output_type": "stream",
          "name": "stdout",
          "text": [
            "Mean Absolute Error (MAE): 15.853377413964813\n",
            "R-squared (R2): 0.12347218041029817\n",
            "     Actual Donation Bags  Predicted Donation Bags\n",
            "70                     21                52.768324\n",
            "235                    14                29.346237\n",
            "430                    14                17.207740\n",
            "412                    32                25.560861\n",
            "39                     29                23.749620\n"
          ]
        }
      ]
    },
    {
      "cell_type": "code",
      "source": [
        "# Evaluate the model\n",
        "mse = mean_squared_error(y_test, y_pred)\n",
        "print(f\"Mean Squared Error: {mse}\")"
      ],
      "metadata": {
        "id": "IT-TLTrzc9zL",
        "colab": {
          "base_uri": "https://localhost:8080/"
        },
        "outputId": "d1e5157a-f758-4c44-e9d8-913117be9f22"
      },
      "execution_count": null,
      "outputs": [
        {
          "output_type": "stream",
          "name": "stdout",
          "text": [
            "Mean Squared Error: 1792.0560302814026\n"
          ]
        }
      ]
    },
    {
      "cell_type": "markdown",
      "source": [
        "# Compare with other Regressor Models"
      ],
      "metadata": {
        "id": "vjVmA0zif7hE"
      }
    },
    {
      "cell_type": "code",
      "source": [
        "from sklearn.preprocessing import StandardScaler\n",
        "from sklearn.tree import DecisionTreeRegressor\n",
        "from sklearn.neighbors import KNeighborsRegressor\n",
        "from sklearn.ensemble import RandomForestRegressor, GradientBoostingRegressor\n",
        "from sklearn.metrics import mean_squared_error, r2_score"
      ],
      "metadata": {
        "id": "PfNy4XwIgZVy"
      },
      "execution_count": null,
      "outputs": []
    },
    {
      "cell_type": "code",
      "source": [
        "\n",
        "# Standardize features (required for KNN)\n",
        "scaler = StandardScaler()\n",
        "X_train = scaler.fit_transform(X_train)\n",
        "X_test = scaler.transform(X_test)"
      ],
      "metadata": {
        "id": "57vI7Iv0gdYV"
      },
      "execution_count": null,
      "outputs": []
    },
    {
      "cell_type": "code",
      "source": [
        "# Implement Decision Tree Regression\n",
        "decision_tree = DecisionTreeRegressor(max_depth=5)  # You can adjust the maximum depth\n",
        "decision_tree.fit(X_train, y_train)\n",
        "y_pred_decision_tree = decision_tree.predict(X_test)\n",
        "\n",
        "# Implement K-Nearest Neighbors (KNN) Regression\n",
        "knn = KNeighborsRegressor(n_neighbors=5)  # You can adjust the number of neighbors\n",
        "knn.fit(X_train, y_train)\n",
        "y_pred_knn = knn.predict(X_test)\n",
        "\n",
        "# Implement Random Forest Regression\n",
        "random_forest = RandomForestRegressor(n_estimators=100)  # You can adjust the number of trees (n_estimators)\n",
        "random_forest.fit(X_train, y_train)\n",
        "y_pred_random_forest = random_forest.predict(X_test)\n",
        "\n",
        "# Implement Gradient Boosting Regression\n",
        "gradient_boosting = GradientBoostingRegressor(n_estimators=100, learning_rate=0.1)  # You can adjust hyperparameters\n",
        "gradient_boosting.fit(X_train, y_train)\n",
        "y_pred_gradient_boosting = gradient_boosting.predict(X_test)"
      ],
      "metadata": {
        "id": "w_zuepqogpqT"
      },
      "execution_count": null,
      "outputs": []
    },
    {
      "cell_type": "code",
      "source": [
        "# Evaluate the models\n",
        "def evaluate_model(y_true, y_pred, model_name):\n",
        "    mse = mean_squared_error(y_true, y_pred)\n",
        "    r2 = r2_score(y_true, y_pred)\n",
        "    print(f\"{model_name} - Mean Squared Error: {mse}\")\n",
        "    print(f\"{model_name} - R-squared (R²): {r2}\\n\")\n",
        "\n",
        "\n"
      ],
      "metadata": {
        "id": "0BniglkZf57j"
      },
      "execution_count": null,
      "outputs": []
    },
    {
      "cell_type": "code",
      "source": [
        "evaluate_model(y_test, y_pred_decision_tree, \"Decision Tree\")\n",
        "evaluate_model(y_test, y_pred_knn, \"K-Nearest Neighbors (KNN)\")\n",
        "evaluate_model(y_test, y_pred_random_forest, \"Random Forest\")\n",
        "evaluate_model(y_test, y_pred_gradient_boosting, \"Gradient Boosting\")"
      ],
      "metadata": {
        "id": "HsbFcQdXgs5X",
        "colab": {
          "base_uri": "https://localhost:8080/"
        },
        "outputId": "a4c1fbfd-eac4-4c9f-ff81-6943a1e0c5b1"
      },
      "execution_count": null,
      "outputs": [
        {
          "output_type": "stream",
          "name": "stdout",
          "text": [
            "Decision Tree - Mean Squared Error: 1873.8341997339319\n",
            "Decision Tree - R-squared (R²): 0.083472961999138\n",
            "\n",
            "K-Nearest Neighbors (KNN) - Mean Squared Error: 1934.742762430939\n",
            "K-Nearest Neighbors (KNN) - R-squared (R²): 0.053681455063516736\n",
            "\n",
            "Random Forest - Mean Squared Error: 2875.8019057354823\n",
            "Random Forest - R-squared (R²): -0.406608014153669\n",
            "\n",
            "Gradient Boosting - Mean Squared Error: 2998.150275816187\n",
            "Gradient Boosting - R-squared (R²): -0.4664508696476206\n",
            "\n"
          ]
        }
      ]
    },
    {
      "cell_type": "markdown",
      "source": [
        "*Which model performed best?*\n",
        "\n",
        "the Decision Tree model is the best performer among these options based on both MSE and R². However, the overall low R² values across models suggest that feature engineering or alternative models may be needed to improve accuracy further."
      ],
      "metadata": {
        "id": "PKK1tr--gu8W"
      }
    },
    {
      "cell_type": "markdown",
      "source": [
        "# Save the best performing model"
      ],
      "metadata": {
        "id": "__nWl5nbmR4y"
      }
    },
    {
      "cell_type": "code",
      "source": [
        "!pip install joblib\n"
      ],
      "metadata": {
        "id": "IGFPPWN7muD_",
        "colab": {
          "base_uri": "https://localhost:8080/"
        },
        "outputId": "fc2ec955-09a9-4508-a581-301f1e62cbef"
      },
      "execution_count": null,
      "outputs": [
        {
          "output_type": "stream",
          "name": "stdout",
          "text": [
            "Requirement already satisfied: joblib in /usr/local/lib/python3.11/dist-packages (1.4.2)\n"
          ]
        }
      ]
    },
    {
      "cell_type": "code",
      "source": [
        "import joblib\n",
        "\n",
        "# Assuming 'random_forest' is your best trained Random Forest Regressor model\n",
        "model = decision_tree  # Replace with your actual model\n",
        "\n",
        "# Specify the file path where you want to save the model\n",
        "model_filename = 'decision_tree_model.pkl'\n",
        "\n",
        "# Save the model to a .pkl file\n",
        "joblib.dump(model, model_filename)\n"
      ],
      "metadata": {
        "id": "OUpTaweAmU00",
        "colab": {
          "base_uri": "https://localhost:8080/"
        },
        "outputId": "0bed1051-1ad3-4e5f-db56-2f5182ee9b98"
      },
      "execution_count": null,
      "outputs": [
        {
          "output_type": "execute_result",
          "data": {
            "text/plain": [
              "['decision_tree_model.pkl']"
            ]
          },
          "metadata": {},
          "execution_count": 28
        }
      ]
    },
    {
      "cell_type": "markdown",
      "source": [
        "# Determine Feature Imporance- Regression Models"
      ],
      "metadata": {
        "id": "5ZqeKRgRlJ9i"
      }
    },
    {
      "cell_type": "code",
      "source": [
        "import matplotlib.pyplot as plt\n",
        "# Assuming 'decision_tree' is your trained Decision Tree Regressor model\n",
        "feature_importance = decision_tree.feature_importances_\n",
        "feature_names = X.columns\n",
        "\n",
        "# Create a bar plot to visualize feature importance\n",
        "plt.figure(figsize=(10, 6))\n",
        "plt.barh(range(len(feature_importance)), feature_importance, align='center')\n",
        "plt.yticks(range(len(feature_importance)), feature_names)\n",
        "plt.xlabel('Feature Importance')\n",
        "plt.ylabel('Feature')\n",
        "plt.title('Decision Tree Regressor Feature Importance')\n",
        "plt.show()\n"
      ],
      "metadata": {
        "id": "VLU5H1LRlQRz"
      },
      "execution_count": null,
      "outputs": []
    },
    {
      "cell_type": "code",
      "source": [
        "\n",
        "# Assuming 'random_forest' is your trained Random Forest Regressor model\n",
        "feature_importance = random_forest.feature_importances_\n",
        "feature_names = X.columns\n",
        "\n",
        "# Create a bar plot to visualize feature importance\n",
        "plt.figure(figsize=(10, 6))\n",
        "plt.barh(range(len(feature_importance)), feature_importance, align='center')\n",
        "plt.yticks(range(len(feature_importance)), feature_names)\n",
        "plt.xlabel('Feature Importance')\n",
        "plt.ylabel('Feature')\n",
        "plt.title('Random Forest Regressor Feature Importance')\n",
        "plt.show()\n"
      ],
      "metadata": {
        "id": "QZHd_qxvllAk"
      },
      "execution_count": null,
      "outputs": []
    },
    {
      "cell_type": "code",
      "source": [
        "\n",
        "# Assuming 'gradient_boosting' is your trained Gradient Boosting Regressor model\n",
        "feature_importance = gradient_boosting.feature_importances_\n",
        "feature_names = X.columns\n",
        "\n",
        "# Create a bar plot to visualize feature importance\n",
        "plt.figure(figsize=(10, 6))\n",
        "plt.barh(range(len(feature_importance)), feature_importance, align='center')\n",
        "plt.yticks(range(len(feature_importance)), feature_names)\n",
        "plt.xlabel('Feature Importance')\n",
        "plt.ylabel('Feature')\n",
        "plt.title('Gradient Boosting Regressor Feature Importance')\n",
        "plt.show()\n"
      ],
      "metadata": {
        "id": "eLSi-aORlrbD"
      },
      "execution_count": null,
      "outputs": []
    },
    {
      "cell_type": "markdown",
      "source": [
        "# Solution 2: Convert to a Classification Problem"
      ],
      "metadata": {
        "id": "I4C-SvHug4cb"
      }
    },
    {
      "cell_type": "markdown",
      "source": [
        "To do this we can set a threshold for the number of bags collected to determine whether a donation drive is considered successful or not. This threshold can be used to convert your regression task (predicting the number of bags collected) into a classification task (predicting whether the threshold was met or not)."
      ],
      "metadata": {
        "id": "9F5G1Shwg9hI"
      }
    },
    {
      "cell_type": "code",
      "source": [
        "# Combine datasets if needed and define the threshold for \"successful\" donation drives\n",
        "threshold = 50  # In this case, 50 bags is the threshold for success\n",
        "data_combined['Success'] = (data_combined['Donation Bags Collected'] >= threshold).astype(int)\n"
      ],
      "metadata": {
        "id": "sr_ScL9XhI_b"
      },
      "execution_count": null,
      "outputs": []
    },
    {
      "cell_type": "markdown",
      "source": [
        "# Check for Data imbalance"
      ],
      "metadata": {
        "id": "EZslIoVsmlTD"
      }
    },
    {
      "cell_type": "code",
      "source": [
        "import matplotlib.pyplot as plt\n",
        "\n",
        "\n",
        "# Calculate value counts for the 'Success' column\n",
        "success_counts = data_combined['Success'].value_counts()\n",
        "\n",
        "\n"
      ],
      "metadata": {
        "id": "RYlCpoxmlRsi"
      },
      "execution_count": null,
      "outputs": []
    },
    {
      "cell_type": "code",
      "source": [
        "# Plotting the bar plot\n",
        "plt.figure(figsize=(6, 4))\n",
        "success_counts.plot(kind='bar', color=['green', 'red'])\n",
        "plt.title('Success Class Distribution')\n",
        "plt.xlabel('Success (1) / Failure (0)')\n",
        "plt.ylabel('Count')\n",
        "plt.xticks(rotation=0)\n",
        "plt.show()"
      ],
      "metadata": {
        "id": "hiwUWzyflWEU"
      },
      "execution_count": null,
      "outputs": []
    },
    {
      "cell_type": "markdown",
      "source": [
        "Consider reducing your threshold for better balance. Try #40, #30...etc"
      ],
      "metadata": {
        "id": "-Z3lRUhJmYuE"
      }
    },
    {
      "cell_type": "code",
      "source": [
        "from sklearn.neighbors import KNeighborsClassifier\n",
        "from sklearn.tree import DecisionTreeClassifier\n",
        "from sklearn.ensemble import RandomForestClassifier\n",
        "from sklearn.metrics import accuracy_score, classification_report"
      ],
      "metadata": {
        "id": "HJGJ__9Lh8pb"
      },
      "execution_count": null,
      "outputs": []
    },
    {
      "cell_type": "code",
      "source": [
        "# Assuming the target variable is in a column named 'Success' (1 for success, 0 for failure)\n",
        "# Define potential thresholds\n",
        "thresholds = [50, 40, 30, 20]\n",
        "\n",
        "# Iterate through each threshold and check the class balance\n",
        "for threshold in thresholds:\n",
        "    # Convert 'Donation Bags Collected' to binary target variable based on threshold\n",
        "    data_combined['Success'] = (data_combined['Donation Bags Collected'] >= threshold).astype(int)\n",
        "\n",
        "    # Plot class distribution for the current threshold\n",
        "    success_counts = data_combined['Success'].value_counts()\n",
        "    plt.figure(figsize=(6, 4))\n",
        "    success_counts.plot(kind='bar', color=['green', 'red'])\n",
        "    plt.title(f'Success Class Distribution (Threshold = {threshold} bags)')\n",
        "    plt.xlabel('Success (1) / Failure (0)')\n",
        "    plt.ylabel('Count')\n",
        "    plt.xticks(rotation=0)\n",
        "    plt.show()\n"
      ],
      "metadata": {
        "id": "8ji3rhe_iEi-"
      },
      "execution_count": null,
      "outputs": []
    },
    {
      "cell_type": "code",
      "source": [
        "# Choose the best threshold based on class balance (for this example, we assume 40 provides good balance)\n",
        "final_threshold = 30\n",
        "data_combined['Success'] = (data_combined['Donation Bags Collected'] >= final_threshold).astype(int)\n",
        "\n",
        "# Define features (X) and the final binary target (y) for classification\n",
        "X = data_combined[['Completed More Than One Route', 'Time Spent', '# of Adult Volunteers',\n",
        "                   'Doors in Route', '# of Youth Volunteers']]\n",
        "y = data_combined['Success']\n"
      ],
      "metadata": {
        "id": "sJMWRU_Df2ko"
      },
      "execution_count": null,
      "outputs": []
    },
    {
      "cell_type": "code",
      "source": [
        "# Split the dataset into training and testing sets\n",
        "X_train, X_test, y_train, y_test = train_test_split(X, y, test_size=0.2, random_state=42)"
      ],
      "metadata": {
        "id": "zSCFYIPBiICQ"
      },
      "execution_count": null,
      "outputs": []
    },
    {
      "cell_type": "code",
      "source": [
        "# Standardize features (required for KNN)\n",
        "scaler = StandardScaler()\n",
        "X_train = scaler.fit_transform(X_train)\n",
        "X_test = scaler.transform(X_test)"
      ],
      "metadata": {
        "id": "nU04JUvaiKdp"
      },
      "execution_count": null,
      "outputs": []
    },
    {
      "cell_type": "markdown",
      "source": [
        "# Compare Models"
      ],
      "metadata": {
        "id": "8PwXLSjWiMHS"
      }
    },
    {
      "cell_type": "code",
      "source": [
        "# Implement K-Nearest Neighbors (KNN)\n",
        "knn = KNeighborsClassifier(n_neighbors=5)  # You can adjust the number of neighbors\n",
        "knn.fit(X_train, y_train)\n",
        "y_pred_knn = knn.predict(X_test)\n",
        "\n",
        "# Implement Decision Trees\n",
        "decision_tree = DecisionTreeClassifier(max_depth=5)  # You can adjust the maximum depth\n",
        "decision_tree.fit(X_train, y_train)\n",
        "y_pred_decision_tree = decision_tree.predict(X_test)\n",
        "\n",
        "# Implement Random Forest\n",
        "random_forest = RandomForestClassifier(n_estimators=100)  # You can adjust the number of trees (n_estimators)\n",
        "random_forest.fit(X_train, y_train)\n",
        "y_pred_random_forest = random_forest.predict(X_test)\n",
        "\n"
      ],
      "metadata": {
        "id": "ov3S5M0Xh2FB"
      },
      "execution_count": null,
      "outputs": []
    },
    {
      "cell_type": "code",
      "source": [
        "# Evaluate the models\n",
        "print(\"K-Nearest Neighbors (KNN) Accuracy:\", accuracy_score(y_test, y_pred_knn))\n",
        "print(\"Decision Tree Accuracy:\", accuracy_score(y_test, y_pred_decision_tree))\n",
        "print(\"Random Forest Accuracy:\", accuracy_score(y_test, y_pred_random_forest))\n",
        "\n"
      ],
      "metadata": {
        "id": "rBdaNvixiRCD"
      },
      "execution_count": null,
      "outputs": []
    },
    {
      "cell_type": "code",
      "source": [
        "# Optionally, you can print more evaluation metrics like precision, recall, and F1-score\n",
        "print(\"\\nClassification Report for KNN:\")\n",
        "print(classification_report(y_test, y_pred_knn))\n",
        "\n"
      ],
      "metadata": {
        "id": "BeQbZqvhiTm7"
      },
      "execution_count": null,
      "outputs": []
    },
    {
      "cell_type": "code",
      "source": [
        "print(\"\\nClassification Report for Decision Tree:\")\n",
        "print(classification_report(y_test, y_pred_decision_tree))\n",
        "\n"
      ],
      "metadata": {
        "id": "DQZp-vQNiU7W"
      },
      "execution_count": null,
      "outputs": []
    },
    {
      "cell_type": "code",
      "source": [
        "print(\"\\nClassification Report for Random Forest:\")\n",
        "print(classification_report(y_test, y_pred_random_forest))"
      ],
      "metadata": {
        "id": "UMnZnHiWiWmF"
      },
      "execution_count": null,
      "outputs": []
    },
    {
      "cell_type": "markdown",
      "source": [
        "*Which model performed best?*\n",
        "\n",
        "The Decision Tree model is the best-performing model overall, with the highest accuracy (0.72) and generally better performance on key metrics like precision and recall."
      ],
      "metadata": {
        "id": "NtgQ9V8Zm09y"
      }
    },
    {
      "cell_type": "markdown",
      "source": [
        "# Save the best performing model"
      ],
      "metadata": {
        "id": "lBgHU_CJm09y"
      }
    },
    {
      "cell_type": "code",
      "source": [
        "\n",
        "\n",
        "# Assuming 'random_forest_classifier' is your best trained Random Forest Classifier model\n",
        "model = decision_tree  # Replace with your actual model\n",
        "\n",
        "# Specify the file path where you want to save the model\n",
        "model_filename = 'decision_tree_model.pkl'\n",
        "\n",
        "# Save the model to a .pkl file\n",
        "joblib.dump(model, model_filename)\n"
      ],
      "metadata": {
        "id": "WTv49RhLoMDn"
      },
      "execution_count": null,
      "outputs": []
    },
    {
      "cell_type": "markdown",
      "source": [
        "# Determine Feature Importance- Classification Models"
      ],
      "metadata": {
        "id": "hXpV5ksOkoJ2"
      }
    },
    {
      "cell_type": "markdown",
      "source": [
        "Decision Tree"
      ],
      "metadata": {
        "id": "m46UcZNfk5PH"
      }
    },
    {
      "cell_type": "code",
      "source": [
        "\n",
        "# Assuming 'decision_tree' is your trained Decision Tree model\n",
        "feature_importance = decision_tree.feature_importances_\n",
        "feature_names = X.columns\n",
        "\n",
        "# Create a bar plot to visualize feature importance\n",
        "plt.figure(figsize=(10, 6))\n",
        "plt.barh(range(len(feature_importance)), feature_importance, align='center')\n",
        "plt.yticks(range(len(feature_importance)), feature_names)\n",
        "plt.xlabel('Feature Importance')\n",
        "plt.ylabel('Feature')\n",
        "plt.title('Decision Tree Feature Importance')\n",
        "plt.show()\n"
      ],
      "metadata": {
        "id": "s-J7_y8RksyC"
      },
      "execution_count": null,
      "outputs": []
    },
    {
      "cell_type": "markdown",
      "source": [
        "Random Forest"
      ],
      "metadata": {
        "id": "wdnoWqhRk69c"
      }
    },
    {
      "cell_type": "code",
      "source": [
        "\n",
        "# Assuming 'random_forest' is your trained Random Forest model\n",
        "feature_importance = random_forest.feature_importances_\n",
        "feature_names = X.columns\n",
        "\n",
        "# Create a bar plot to visualize feature importance\n",
        "plt.figure(figsize=(10, 6))\n",
        "plt.barh(range(len(feature_importance)), feature_importance, align='center')\n",
        "plt.yticks(range(len(feature_importance)), feature_names)\n",
        "plt.xlabel('Feature Importance')\n",
        "plt.ylabel('Feature')\n",
        "plt.title('Random Forest Feature Importance')\n",
        "plt.show()\n"
      ],
      "metadata": {
        "id": "YFXCL_86kztW"
      },
      "execution_count": null,
      "outputs": []
    },
    {
      "cell_type": "markdown",
      "source": [
        "Gradient Boost"
      ],
      "metadata": {
        "id": "nV7mQ6bLlAQQ"
      }
    },
    {
      "cell_type": "code",
      "source": [
        "\n",
        "# Assuming 'gradient_boosting' is your trained Gradient Boosting model\n",
        "feature_importance = gradient_boosting.feature_importances_\n",
        "feature_names = X.columns\n",
        "\n",
        "# Create a bar plot to visualize feature importance\n",
        "plt.figure(figsize=(10, 6))\n",
        "plt.barh(range(len(feature_importance)), feature_importance, align='center')\n",
        "plt.yticks(range(len(feature_importance)), feature_names)\n",
        "plt.xlabel('Feature Importance')\n",
        "plt.ylabel('Feature')\n",
        "plt.title('Gradient Boosting Feature Importance')\n",
        "plt.show()\n"
      ],
      "metadata": {
        "id": "YG3kIyX1k_TE"
      },
      "execution_count": null,
      "outputs": []
    },
    {
      "cell_type": "markdown",
      "source": [
        "# Lab Assignment (Individual)"
      ],
      "metadata": {
        "id": "I3thHwKKkBVj"
      }
    },
    {
      "cell_type": "markdown",
      "source": [
        "1. Predict time spent per Ward/Neighbourhood (2023)\n",
        "2. Predict Time Spent per Ward?Neighbourhood & Route (2023 & 2024)\n",
        "3. Create a Threshold and determine Routes that lasted more than 60 minutes to complete\n",
        "4. Check for data imbalance in your label. What is Data imbalance? What steps can be taken to address Data imbalance.\n",
        "5. Generate Evaluation reports"
      ],
      "metadata": {
        "id": "lVPNDStRkMEf"
      }
    },
    {
      "cell_type": "markdown",
      "source": [
        "## **Predict time spent per Ward/Neighbourhood (2023)**"
      ],
      "metadata": {
        "id": "8KbQ9opo0vi3"
      }
    },
    {
      "cell_type": "code",
      "source": [
        "data_2023.head()"
      ],
      "metadata": {
        "id": "VvEy1xf0EHo3"
      },
      "execution_count": null,
      "outputs": []
    },
    {
      "cell_type": "code",
      "source": [
        "import pandas as pd\n",
        "from sklearn.model_selection import train_test_split\n",
        "from sklearn.tree import DecisionTreeClassifier\n",
        "from sklearn.metrics import accuracy_score, classification_report\n",
        "\n",
        "\n",
        "\n",
        "def convert_to_range(value):\n",
        "    if value <= 30:\n",
        "        return \"0 - 30 Minutes\"\n",
        "    elif 30 < value <= 60:\n",
        "        return \"30 - 60 Minutes\"\n",
        "    elif 60 < value <= 90:\n",
        "        return \"1 Hour - 1.5 Hours\"\n",
        "    else:\n",
        "        return \"2+ Hours\"\n",
        "\n",
        "# Apply the function to convert 'Time Spent' in the 2023 dataset\n",
        "data_2023['Time Spent'] = data_2023['time completed'].apply(convert_to_range)\n",
        "\n",
        "# Feature Engineering: Select relevant features\n",
        "X = data_2023[['Ward/Branch']]\n",
        "y = data_2023['Time Spent']\n",
        "\n",
        "# Encode categorical features\n",
        "X = pd.get_dummies(X, drop_first=True)\n",
        "\n",
        "# Train-Test Split\n",
        "X_train, X_test, y_train, y_test = train_test_split(X, y, test_size=0.2, random_state=42)\n",
        "\n",
        "# Model Training\n",
        "model = DecisionTreeClassifier(random_state=42)\n",
        "model.fit(X_train, y_train)\n",
        "\n",
        "# Prediction\n",
        "y_pred = model.predict(X_test)\n",
        "\n",
        "# Evaluation\n",
        "accuracy = accuracy_score(y_test, y_pred)\n",
        "report = classification_report(y_test, y_pred)\n",
        "\n",
        "print(\"Accuracy:\", accuracy)\n",
        "print(\"Classification Report:\\n\", report)\n",
        "\n",
        "\n",
        "time_spent_2023_pred = model.predict(X)\n",
        "\n",
        "# Output predictions\n",
        "data_2023['Predicted_Time_Category'] = time_spent_2023_pred\n",
        "print(data_2023[['Ward/Branch', 'Predicted_Time_Category']])\n"
      ],
      "metadata": {
        "id": "ngueUN_FEPfz"
      },
      "execution_count": null,
      "outputs": []
    },
    {
      "cell_type": "code",
      "source": [
        "data_2023.tail()"
      ],
      "metadata": {
        "id": "jEL0UeHUJBgH"
      },
      "execution_count": null,
      "outputs": []
    },
    {
      "cell_type": "markdown",
      "source": [
        "## **Predict Time Spent per Ward?Neighbourhood & Route (2023 & 2024)**"
      ],
      "metadata": {
        "id": "JvaNGjDG05ie"
      }
    },
    {
      "cell_type": "markdown",
      "source": [
        "We dont have routes column unfortunately, it was dropped earlier for 2023"
      ],
      "metadata": {
        "id": "sfCRQ1lz2Blo"
      }
    },
    {
      "cell_type": "code",
      "source": [
        "\n",
        "# Add a 'Year' column to differentiate the data\n",
        "data_2023['Year'] = 2023\n",
        "data_2024['Year'] = 2024\n",
        "\n",
        "# Concatenate 2023 and 2024 data for consistent preprocessing\n",
        "data_combined = pd.concat([data_2023, data_2024], ignore_index=True)\n",
        "\n",
        "# Ensure 'Time Spent' is categorized properly\n",
        "def convert_to_range(value):\n",
        "    if value <= 30:\n",
        "        return \"0 - 30 Minutes\"\n",
        "    elif 30 < value <= 60:\n",
        "        return \"30 - 60 Minutes\"\n",
        "    elif 60 < value <= 90:\n",
        "        return \"1 Hour - 1.5 Hours\"\n",
        "    else:\n",
        "        return \"2+ Hours\"\n",
        "\n",
        "# Apply categorization to the 'time completed' column\n",
        "data_combined['Time Spent'] = data_combined['time completed'].apply(convert_to_range)\n",
        "\n",
        "# Feature Engineering: Select relevant features\n",
        "X = data_combined[['Ward/Branch', 'Year']]  # Include 'Year' as a feature if needed\n",
        "y = data_combined['Time Spent']\n",
        "\n",
        "# Encode categorical features\n",
        "X = pd.get_dummies(X, drop_first=True)\n",
        "\n",
        "# Split data: use only 2023 data for training, predict for both 2023 and 2024\n",
        "X_train = X[data_combined['Year'] == 2023]\n",
        "y_train = y[data_combined['Year'] == 2023]\n",
        "X_test_2023 = X[data_combined['Year'] == 2023]\n",
        "X_test_2024 = X[data_combined['Year'] == 2024]\n",
        "\n",
        "# Model Training\n",
        "model = DecisionTreeClassifier(random_state=42)\n",
        "model.fit(X_train, y_train)\n",
        "\n",
        "# Prediction for 2023 data\n",
        "y_pred_2023 = model.predict(X_test_2023)\n",
        "\n",
        "# Prediction for 2024 data\n",
        "y_pred_2024 = model.predict(X_test_2024)\n",
        "\n",
        "# Evaluation on 2023 data to validate model performance\n",
        "accuracy = accuracy_score(y_train, y_pred_2023)\n",
        "report = classification_report(y_train, y_pred_2023)\n",
        "\n",
        "print(\"Accuracy on 2023 data:\", accuracy)\n",
        "print(\"Classification Report for 2023 data:\\n\", report)\n",
        "\n",
        "# Output predictions for both 2023 and 2024 data\n",
        "data_combined.loc[data_combined['Year'] == 2023, 'Predicted_Time_Category'] = y_pred_2023\n",
        "data_combined.loc[data_combined['Year'] == 2024, 'Predicted_Time_Category'] = y_pred_2024\n",
        "\n",
        "# View predictions\n",
        "print(data_combined[['Ward/Branch', 'Year', 'Predicted_Time_Category']])\n"
      ],
      "metadata": {
        "id": "Nx_aXSdqNzM9"
      },
      "execution_count": null,
      "outputs": []
    },
    {
      "cell_type": "markdown",
      "source": [
        "# Create a Threshold and determine Routes that lasted more than 60 minutes to complete"
      ],
      "metadata": {
        "id": "DadWa2gFPevS"
      }
    },
    {
      "cell_type": "code",
      "source": [
        "data_2024.head()"
      ],
      "metadata": {
        "id": "MOev-3tFP_ee"
      },
      "execution_count": null,
      "outputs": []
    },
    {
      "cell_type": "code",
      "source": [
        "def convert_to_range(value):\n",
        "    if value == 0:\n",
        "        return \"0 - 30 Minutes\"\n",
        "    elif  value == 1:\n",
        "        return \"30 - 60 Minutes\"\n",
        "    elif value == 2:\n",
        "        return \"1 Hour - 1.5 Hours\"\n",
        "    else:\n",
        "        return \"2+ Hours\"\n",
        "\n",
        "# Apply categorization to the 'time completed' column\n",
        "data_2024['Time Completed'] = data_2024['Time Spent'].apply(convert_to_range)"
      ],
      "metadata": {
        "id": "o4JxSzfvTeoy"
      },
      "execution_count": null,
      "outputs": []
    },
    {
      "cell_type": "code",
      "source": [
        "data_2024.head()"
      ],
      "metadata": {
        "id": "oadedQsVT7am"
      },
      "execution_count": null,
      "outputs": []
    },
    {
      "cell_type": "code",
      "source": [
        "import pandas as pd\n",
        "\n",
        "import pandas as pd\n",
        "\n",
        "\n",
        "# Create a threshold column to identify routes lasting more than 60 minutes\n",
        "data_2024['Over_60_Minutes'] = data_2024['Time Completed'].apply(lambda x: 'Yes' if x in ('1 Hour - 1.5 Hours', '2+ Hours') else 'No')\n",
        "\n",
        "# Filter out routes that took more than 60 minutes\n",
        "routes_over_60 = data_2024[data_2024['Over_60_Minutes'] == 'Yes']\n",
        "\n",
        "\n",
        "# Display results\n",
        "print(\"Routes that lasted more than 60 minutes:\")\n",
        "print(routes_over_60[['Route Number/Name', 'Time Completed', 'Over_60_Minutes']])\n"
      ],
      "metadata": {
        "id": "ZRCb7cerUAwr"
      },
      "execution_count": null,
      "outputs": []
    },
    {
      "cell_type": "markdown",
      "source": [
        "## **Check for data imbalance in your label. What is Data imbalance? What steps can be taken to address Data imbalance.**"
      ],
      "metadata": {
        "id": "1x-3W1DU3tcR"
      }
    },
    {
      "cell_type": "markdown",
      "source": [
        "Data Imbalance\n",
        "\n",
        "Data imbalance occurs when the classes in the target label (the variable you’re predicting) are not represented equally. For example, in a binary classification where the goal is to classify data into \"Yes\" and \"No\" categories, a data imbalance would be present if 90% of the data belongs to the \"Yes\" class and only 10% to the \"No\" class. Imbalanced datasets can negatively impact model performance, as most machine learning algorithms assume an even distribution across classes and may thus favor the majority class, leading to biased predictions."
      ],
      "metadata": {
        "id": "8ilc7e-VWKGw"
      }
    },
    {
      "cell_type": "code",
      "source": [
        "# Display class distribution\n",
        "print(\"Class Distribution:\\n\", data_2024['Donation Bags Collected'].value_counts(normalize=True))\n",
        "\n",
        "# Plot class distribution\n",
        "import matplotlib.pyplot as plt\n",
        "\n",
        "data_2024['Donation Bags Collected'].value_counts().plot(kind='bar')\n",
        "plt.title('Class Distribution of Doanation Bags Collected')\n",
        "plt.xlabel('Class')\n",
        "plt.ylabel('Frequency')\n",
        "plt.show()"
      ],
      "metadata": {
        "id": "ztcckZ8TWObr"
      },
      "execution_count": null,
      "outputs": []
    },
    {
      "cell_type": "markdown",
      "source": [
        "Addressing class imbalance in a dataset is crucial for improving model performance and accuracy, especially when the minority class is of high importance (e.g., fraud detection or medical diagnoses). One common strategy is resampling, which involves either oversampling the minority class or undersampling the majority class. Oversampling duplicates instances from the minority class to balance the data, while undersampling reduces the number of instances in the majority class. Additionally, class weighting can be used, where the model assigns higher weights to the minority class, making it more sensitive to these instances without altering the dataset size."
      ],
      "metadata": {
        "id": "4ROJ8kIuXNMX"
      }
    },
    {
      "cell_type": "markdown",
      "source": [
        "## **Generate Evaluation reports**"
      ],
      "metadata": {
        "id": "hPtXJ9hL455S"
      }
    },
    {
      "cell_type": "code",
      "source": [
        "\n",
        "# Select relevant features for prediction\n",
        "X = data_combined[['Completed More Than One Route', 'Routes Completed', '# of Adult Volunteers',\n",
        "                   'Doors in Route', '# of Youth Volunteers']]\n",
        "y = data_combined['Donation Bags Collected']\n",
        "\n",
        "# Split data into training and testing sets (80-20 split)\n",
        "X_train, X_test, y_train, y_test = train_test_split(X, y, test_size=0.2, random_state=42)\n",
        "\n",
        "# Train a Decision Tree classifier\n",
        "classifier = DecisionTreeClassifier(random_state=42)\n",
        "classifier.fit(X_train, y_train)\n",
        "\n",
        "# Make predictions on the test set\n",
        "y_pred = classifier.predict(X_test)\n",
        "\n",
        "# Calculate and print evaluation metrics\n",
        "accuracy = accuracy_score(y_test, y_pred)\n",
        "conf_matrix = confusion_matrix(y_test, y_pred)\n",
        "class_report = classification_report(y_test, y_pred)\n",
        "\n",
        "\n",
        "print(f\"Accuracy: {accuracy}\")\n",
        "print(\"Confusion Matrix:\\n\", conf_matrix)\n",
        "print(\"Classification Report:\\n\", class_report)\n",
        "\n"
      ],
      "metadata": {
        "id": "As4mcsRmYDJ0"
      },
      "execution_count": null,
      "outputs": []
    },
    {
      "cell_type": "markdown",
      "source": [
        "6. **Reflection and Recommendations**\n",
        "   - Reflect on the model’s performance:\n",
        "     - Were the predictions close to the actual results?\n",
        "     - Were there any specific routes or wards where the model was more accurate or less accurate?\n",
        "   - Provide recommendations for improving the model. Consider adjustments such as feature engineering, different model architectures, or new data that could be incorporated to improve accuracy in future predictions.\n",
        "\n",
        "7. **Submission**\n",
        "   - Submit your updated notebook with the following:\n",
        "     - Model training and testing code.\n",
        "     - Analysis of the model’s performance.\n",
        "     - A short reflection (1-2 paragraphs) on the accuracy of the predictions and suggestions for improving the model.\n",
        "\n",
        "---\n",
        "\n"
      ],
      "metadata": {
        "id": "m7ZPbopC-Chb"
      }
    },
    {
      "cell_type": "markdown",
      "source": [
        "Model Performance Reflection\n",
        "\n",
        "Prediction Accuracy: The model’s predictions were evaluated against actual results, and the reported performance metrics (accuracy, precision, recall) indicate that while the model could identify general trends, its accuracy varied significantly across routes and wards.\n",
        "\n",
        "Accuracy Across Routes/Wards: It appears that certain routes or wards had higher prediction accuracy, potentially those with more consistent or straightforward travel patterns. Conversely, routes with significant variability likely showed less accurate predictions. This variability suggests that the model may struggle with scenarios that deviate from the common trends in the training data"
      ],
      "metadata": {
        "id": "5j6Vz4vSZZzK"
      }
    },
    {
      "cell_type": "markdown",
      "source": [
        "Recommendations for Improvement\n",
        "\n",
        "To enhance the model’s accuracy and robustness across all routes and wards, we cam consider the following adjustments:\n",
        "\n",
        "Feature Engineering: Introduce new features that capture more granular aspects of each route, such as:\n",
        "\n",
        "-> Weather Conditions: Weather can heavily impact route times, so adding this data would provide context to travel variability.\n",
        "\n",
        "-> Route-Specific Details: Proper Information on route distance, number and name\n",
        "\n",
        "Resampling Techniques: For any underrepresented routes or wards, use oversampling  to increase their representation in the training data.\n",
        "\n",
        "Weighted Sampling or Cost-Sensitive Training: Assign higher weights to data points from less common routes, so the model gives them more consideration during training."
      ],
      "metadata": {
        "id": "Ey2zUz-wZqCc"
      }
    },
    {
      "cell_type": "markdown",
      "source": [
        "# Team Tasks"
      ],
      "metadata": {
        "id": "znoUjWxhI3M2"
      }
    },
    {
      "cell_type": "markdown",
      "source": [
        "### Group 1: Year-on-Year Comparison (2023 vs 2024)\n",
        "**Focus:** Perform a year-on-year comparison between the 2023 and 2024 food drives, analyzing donations, volunteer participation, and route completion times.  \n",
        "**ML Task:** Comparative Analysis  \n",
        "**Objective:** Build a model that predicts how donation predictions from 2023 align with 2024.\n",
        "\n",
        "### Group 2: Geospatial Analysis of Neighborhood and Route Data\n",
        "**Focus:** Conduct a geospatial analysis using neighborhood and route data, exploring areas contributing the most/least.  \n",
        "**ML Task:** Geospatial Donation Prediction  \n",
        "**Objective:** Develop a model to identify which neighborhoods are likely to contribute the most/least donations based on geospatial and demographic features.  \n",
        "**Approach:** Apply geospatial clustering algorithms (e.g., K-means) to explore patterns between donation volumes and geographic or property value data.\n",
        "\n",
        "### Group 3: Volunteer Allocation and Efficiency\n",
        "**Focus:** Analyze how volunteer allocation impacted route completion times and donation volumes.  \n",
        "**ML Task:** Volunteer Efficiency Modeling  \n",
        "**Objective:** Predict the optimal number of volunteers needed for each route to maximize efficiency and donations collected.  \n",
        "**Approach:** Explore the relationship between volunteer numbers, time taken, and donation volumes. Run the ML model with and without volunteer data. Determine if the model performs better or worse.\n",
        "\n",
        "### Group 4: In-Depth Analysis of Belmead Ward\n",
        "**Focus:** Conduct a detailed analysis of the Belmead Ward, comparing it with other wards in terms of donations, volunteer participation, and route efficiency.  \n",
        "**ML Task:** Route Efficiency and Performance Modeling  \n",
        "**Objective:** Build a model to predict which routes in Belmead Ward are most efficient and why, focusing on factors like route length, number of homes, and volunteer numbers.  \n",
        "**Approach:** Use clustering techniques (e.g., K-means) and decision trees to categorize routes and predict efficiency based on historical data.\n",
        "\n",
        "### Group 5: Property Assessment Data Correlation\n",
        "**Focus:** Investigate the correlation between property values and donation volumes using the property assessment data alongside donation data.  \n",
        "**ML Task:** Correlation and Impact Analysis  \n",
        "**Objective:** Develop a model that predicts donation volumes based on property values in different neighborhoods.  \n",
        "**Approach:** Bin routes per neighborhood. Run the ML model with and without property assessment values. Evaluate if the model performs better or worse.\n",
        "\n",
        "### Group 6: Predictive Modeling Insights\n",
        "**Focus:** Present predictive modeling results on donation volumes or time spent per route.  \n",
        "**ML Task:** Time-to-Completion and Donation Prediction  \n",
        "**Objective:** Predict how long it will take to complete each route and the expected donation volume for future drives.\n",
        "\n",
        "### Group 7: Sentiment Analysis of Comments\n",
        "**Focus:** Use sentiment analysis to evaluate volunteer comments and explore patterns across different wards.  \n",
        "**ML Task:** Sentiment Classification and Correlation Analysis  \n",
        "**Objective:** Build a model that classifies volunteer comments into positive, neutral, or negative categories, identifying correlations with donation success in each ward.\n"
      ],
      "metadata": {
        "id": "hIuW3WK2I7Ds"
      }
    },
    {
      "cell_type": "markdown",
      "source": [
        "### Deliverables:\n",
        "1. **Updated ML Notebook** with 2023 data as training and 2024 data as test data.\n",
        "2. **Performance Metrics** comparing the model’s predictions to actual 2024 results.\n",
        "3. **Reflection** on model accuracy and suggestions for improvement."
      ],
      "metadata": {
        "id": "nRwxTBRaJRJf"
      }
    }
  ]
}